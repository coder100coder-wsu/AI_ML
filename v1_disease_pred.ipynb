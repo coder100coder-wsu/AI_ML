{
  "nbformat": 4,
  "nbformat_minor": 0,
  "metadata": {
    "colab": {
      "provenance": [],
      "authorship_tag": "ABX9TyMaUtEBhc+OWPKPBrbPNvgJ",
      "include_colab_link": true
    },
    "kernelspec": {
      "name": "python3",
      "display_name": "Python 3"
    },
    "language_info": {
      "name": "python"
    }
  },
  "cells": [
    {
      "cell_type": "markdown",
      "metadata": {
        "id": "view-in-github",
        "colab_type": "text"
      },
      "source": [
        "<a href=\"https://colab.research.google.com/github/coder100coder-wsu/AI_ML/blob/main/v1_disease_pred.ipynb\" target=\"_parent\"><img src=\"https://colab.research.google.com/assets/colab-badge.svg\" alt=\"Open In Colab\"/></a>"
      ]
    },
    {
      "cell_type": "code",
      "execution_count": null,
      "metadata": {
        "id": "Ff7uTMAiqN0z"
      },
      "outputs": [],
      "source": [
        "# from google.colab import drive\n",
        "# drive.mount('/content/drive')"
      ]
    },
    {
      "cell_type": "code",
      "source": [
        "# Importing libraries\n",
        "import numpy as np\n",
        "import pandas as pd\n",
        "from scipy.stats import mode\n",
        "import matplotlib.pyplot as plt\n",
        "import seaborn as sns\n",
        "from sklearn.preprocessing import LabelEncoder\n",
        "from sklearn.model_selection import train_test_split, cross_val_score\n",
        "from sklearn.svm import SVC\n",
        "from sklearn.naive_bayes import GaussianNB\n",
        "from sklearn.ensemble import RandomForestClassifier\n",
        "from sklearn.metrics import accuracy_score, confusion_matrix, classification_report\n"
      ],
      "metadata": {
        "id": "iHHm39LnriE3"
      },
      "execution_count": null,
      "outputs": []
    },
    {
      "cell_type": "code",
      "source": [
        "%matplotlib inline"
      ],
      "metadata": {
        "id": "JHjgzXpDOxJw"
      },
      "execution_count": null,
      "outputs": []
    },
    {
      "cell_type": "code",
      "source": [
        "train_data_path = \"/content/drive/MyDrive/disease pred/Training[1].csv\"\n",
        "test_data_path = \"/content/drive/MyDrive/disease pred/Testing[1].csv\""
      ],
      "metadata": {
        "id": "OBCu5tMmr1Vf"
      },
      "execution_count": null,
      "outputs": []
    },
    {
      "cell_type": "code",
      "source": [
        "df_1 = pd.read_csv(train_data_path)\n",
        "df_1.info()"
      ],
      "metadata": {
        "colab": {
          "base_uri": "https://localhost:8080/"
        },
        "id": "8SwF792JsGSn",
        "outputId": "d3d19ddf-6d49-4e67-8bbb-8791df3f7f33",
        "collapsed": true
      },
      "execution_count": null,
      "outputs": [
        {
          "output_type": "stream",
          "name": "stdout",
          "text": [
            "<class 'pandas.core.frame.DataFrame'>\n",
            "RangeIndex: 4920 entries, 0 to 4919\n",
            "Columns: 134 entries, itching to Unnamed: 133\n",
            "dtypes: float64(1), int64(132), object(1)\n",
            "memory usage: 5.0+ MB\n"
          ]
        }
      ]
    },
    {
      "cell_type": "code",
      "source": [
        "df_1.head(2) # get first 2 rows"
      ],
      "metadata": {
        "colab": {
          "base_uri": "https://localhost:8080/",
          "height": 214
        },
        "id": "pSg98RRcteIW",
        "outputId": "acd2e032-6d47-451b-dce2-7ba1fb6cffb0"
      },
      "execution_count": null,
      "outputs": [
        {
          "output_type": "execute_result",
          "data": {
            "text/plain": [
              "   itching  skin_rash  nodal_skin_eruptions  continuous_sneezing  shivering  \\\n",
              "0        1          1                     1                    0          0   \n",
              "1        0          1                     1                    0          0   \n",
              "\n",
              "   chills  joint_pain  stomach_pain  acidity  ulcers_on_tongue  ...  scurring  \\\n",
              "0       0           0             0        0                 0  ...         0   \n",
              "1       0           0             0        0                 0  ...         0   \n",
              "\n",
              "   skin_peeling  silver_like_dusting  small_dents_in_nails  \\\n",
              "0             0                    0                     0   \n",
              "1             0                    0                     0   \n",
              "\n",
              "   inflammatory_nails  blister  red_sore_around_nose  yellow_crust_ooze  \\\n",
              "0                   0        0                     0                  0   \n",
              "1                   0        0                     0                  0   \n",
              "\n",
              "          prognosis  Unnamed: 133  \n",
              "0  Fungal infection           NaN  \n",
              "1  Fungal infection           NaN  \n",
              "\n",
              "[2 rows x 134 columns]"
            ],
            "text/html": [
              "\n",
              "  <div id=\"df-db97d8b0-a99e-477c-827b-6e5433fc9b6e\" class=\"colab-df-container\">\n",
              "    <div>\n",
              "<style scoped>\n",
              "    .dataframe tbody tr th:only-of-type {\n",
              "        vertical-align: middle;\n",
              "    }\n",
              "\n",
              "    .dataframe tbody tr th {\n",
              "        vertical-align: top;\n",
              "    }\n",
              "\n",
              "    .dataframe thead th {\n",
              "        text-align: right;\n",
              "    }\n",
              "</style>\n",
              "<table border=\"1\" class=\"dataframe\">\n",
              "  <thead>\n",
              "    <tr style=\"text-align: right;\">\n",
              "      <th></th>\n",
              "      <th>itching</th>\n",
              "      <th>skin_rash</th>\n",
              "      <th>nodal_skin_eruptions</th>\n",
              "      <th>continuous_sneezing</th>\n",
              "      <th>shivering</th>\n",
              "      <th>chills</th>\n",
              "      <th>joint_pain</th>\n",
              "      <th>stomach_pain</th>\n",
              "      <th>acidity</th>\n",
              "      <th>ulcers_on_tongue</th>\n",
              "      <th>...</th>\n",
              "      <th>scurring</th>\n",
              "      <th>skin_peeling</th>\n",
              "      <th>silver_like_dusting</th>\n",
              "      <th>small_dents_in_nails</th>\n",
              "      <th>inflammatory_nails</th>\n",
              "      <th>blister</th>\n",
              "      <th>red_sore_around_nose</th>\n",
              "      <th>yellow_crust_ooze</th>\n",
              "      <th>prognosis</th>\n",
              "      <th>Unnamed: 133</th>\n",
              "    </tr>\n",
              "  </thead>\n",
              "  <tbody>\n",
              "    <tr>\n",
              "      <th>0</th>\n",
              "      <td>1</td>\n",
              "      <td>1</td>\n",
              "      <td>1</td>\n",
              "      <td>0</td>\n",
              "      <td>0</td>\n",
              "      <td>0</td>\n",
              "      <td>0</td>\n",
              "      <td>0</td>\n",
              "      <td>0</td>\n",
              "      <td>0</td>\n",
              "      <td>...</td>\n",
              "      <td>0</td>\n",
              "      <td>0</td>\n",
              "      <td>0</td>\n",
              "      <td>0</td>\n",
              "      <td>0</td>\n",
              "      <td>0</td>\n",
              "      <td>0</td>\n",
              "      <td>0</td>\n",
              "      <td>Fungal infection</td>\n",
              "      <td>NaN</td>\n",
              "    </tr>\n",
              "    <tr>\n",
              "      <th>1</th>\n",
              "      <td>0</td>\n",
              "      <td>1</td>\n",
              "      <td>1</td>\n",
              "      <td>0</td>\n",
              "      <td>0</td>\n",
              "      <td>0</td>\n",
              "      <td>0</td>\n",
              "      <td>0</td>\n",
              "      <td>0</td>\n",
              "      <td>0</td>\n",
              "      <td>...</td>\n",
              "      <td>0</td>\n",
              "      <td>0</td>\n",
              "      <td>0</td>\n",
              "      <td>0</td>\n",
              "      <td>0</td>\n",
              "      <td>0</td>\n",
              "      <td>0</td>\n",
              "      <td>0</td>\n",
              "      <td>Fungal infection</td>\n",
              "      <td>NaN</td>\n",
              "    </tr>\n",
              "  </tbody>\n",
              "</table>\n",
              "<p>2 rows × 134 columns</p>\n",
              "</div>\n",
              "    <div class=\"colab-df-buttons\">\n",
              "\n",
              "  <div class=\"colab-df-container\">\n",
              "    <button class=\"colab-df-convert\" onclick=\"convertToInteractive('df-db97d8b0-a99e-477c-827b-6e5433fc9b6e')\"\n",
              "            title=\"Convert this dataframe to an interactive table.\"\n",
              "            style=\"display:none;\">\n",
              "\n",
              "  <svg xmlns=\"http://www.w3.org/2000/svg\" height=\"24px\" viewBox=\"0 -960 960 960\">\n",
              "    <path d=\"M120-120v-720h720v720H120Zm60-500h600v-160H180v160Zm220 220h160v-160H400v160Zm0 220h160v-160H400v160ZM180-400h160v-160H180v160Zm440 0h160v-160H620v160ZM180-180h160v-160H180v160Zm440 0h160v-160H620v160Z\"/>\n",
              "  </svg>\n",
              "    </button>\n",
              "\n",
              "  <style>\n",
              "    .colab-df-container {\n",
              "      display:flex;\n",
              "      gap: 12px;\n",
              "    }\n",
              "\n",
              "    .colab-df-convert {\n",
              "      background-color: #E8F0FE;\n",
              "      border: none;\n",
              "      border-radius: 50%;\n",
              "      cursor: pointer;\n",
              "      display: none;\n",
              "      fill: #1967D2;\n",
              "      height: 32px;\n",
              "      padding: 0 0 0 0;\n",
              "      width: 32px;\n",
              "    }\n",
              "\n",
              "    .colab-df-convert:hover {\n",
              "      background-color: #E2EBFA;\n",
              "      box-shadow: 0px 1px 2px rgba(60, 64, 67, 0.3), 0px 1px 3px 1px rgba(60, 64, 67, 0.15);\n",
              "      fill: #174EA6;\n",
              "    }\n",
              "\n",
              "    .colab-df-buttons div {\n",
              "      margin-bottom: 4px;\n",
              "    }\n",
              "\n",
              "    [theme=dark] .colab-df-convert {\n",
              "      background-color: #3B4455;\n",
              "      fill: #D2E3FC;\n",
              "    }\n",
              "\n",
              "    [theme=dark] .colab-df-convert:hover {\n",
              "      background-color: #434B5C;\n",
              "      box-shadow: 0px 1px 3px 1px rgba(0, 0, 0, 0.15);\n",
              "      filter: drop-shadow(0px 1px 2px rgba(0, 0, 0, 0.3));\n",
              "      fill: #FFFFFF;\n",
              "    }\n",
              "  </style>\n",
              "\n",
              "    <script>\n",
              "      const buttonEl =\n",
              "        document.querySelector('#df-db97d8b0-a99e-477c-827b-6e5433fc9b6e button.colab-df-convert');\n",
              "      buttonEl.style.display =\n",
              "        google.colab.kernel.accessAllowed ? 'block' : 'none';\n",
              "\n",
              "      async function convertToInteractive(key) {\n",
              "        const element = document.querySelector('#df-db97d8b0-a99e-477c-827b-6e5433fc9b6e');\n",
              "        const dataTable =\n",
              "          await google.colab.kernel.invokeFunction('convertToInteractive',\n",
              "                                                    [key], {});\n",
              "        if (!dataTable) return;\n",
              "\n",
              "        const docLinkHtml = 'Like what you see? Visit the ' +\n",
              "          '<a target=\"_blank\" href=https://colab.research.google.com/notebooks/data_table.ipynb>data table notebook</a>'\n",
              "          + ' to learn more about interactive tables.';\n",
              "        element.innerHTML = '';\n",
              "        dataTable['output_type'] = 'display_data';\n",
              "        await google.colab.output.renderOutput(dataTable, element);\n",
              "        const docLink = document.createElement('div');\n",
              "        docLink.innerHTML = docLinkHtml;\n",
              "        element.appendChild(docLink);\n",
              "      }\n",
              "    </script>\n",
              "  </div>\n",
              "\n",
              "\n",
              "<div id=\"df-a7087041-aba1-4bc9-945c-5ac7864424f2\">\n",
              "  <button class=\"colab-df-quickchart\" onclick=\"quickchart('df-a7087041-aba1-4bc9-945c-5ac7864424f2')\"\n",
              "            title=\"Suggest charts\"\n",
              "            style=\"display:none;\">\n",
              "\n",
              "<svg xmlns=\"http://www.w3.org/2000/svg\" height=\"24px\"viewBox=\"0 0 24 24\"\n",
              "     width=\"24px\">\n",
              "    <g>\n",
              "        <path d=\"M19 3H5c-1.1 0-2 .9-2 2v14c0 1.1.9 2 2 2h14c1.1 0 2-.9 2-2V5c0-1.1-.9-2-2-2zM9 17H7v-7h2v7zm4 0h-2V7h2v10zm4 0h-2v-4h2v4z\"/>\n",
              "    </g>\n",
              "</svg>\n",
              "  </button>\n",
              "\n",
              "<style>\n",
              "  .colab-df-quickchart {\n",
              "      --bg-color: #E8F0FE;\n",
              "      --fill-color: #1967D2;\n",
              "      --hover-bg-color: #E2EBFA;\n",
              "      --hover-fill-color: #174EA6;\n",
              "      --disabled-fill-color: #AAA;\n",
              "      --disabled-bg-color: #DDD;\n",
              "  }\n",
              "\n",
              "  [theme=dark] .colab-df-quickchart {\n",
              "      --bg-color: #3B4455;\n",
              "      --fill-color: #D2E3FC;\n",
              "      --hover-bg-color: #434B5C;\n",
              "      --hover-fill-color: #FFFFFF;\n",
              "      --disabled-bg-color: #3B4455;\n",
              "      --disabled-fill-color: #666;\n",
              "  }\n",
              "\n",
              "  .colab-df-quickchart {\n",
              "    background-color: var(--bg-color);\n",
              "    border: none;\n",
              "    border-radius: 50%;\n",
              "    cursor: pointer;\n",
              "    display: none;\n",
              "    fill: var(--fill-color);\n",
              "    height: 32px;\n",
              "    padding: 0;\n",
              "    width: 32px;\n",
              "  }\n",
              "\n",
              "  .colab-df-quickchart:hover {\n",
              "    background-color: var(--hover-bg-color);\n",
              "    box-shadow: 0 1px 2px rgba(60, 64, 67, 0.3), 0 1px 3px 1px rgba(60, 64, 67, 0.15);\n",
              "    fill: var(--button-hover-fill-color);\n",
              "  }\n",
              "\n",
              "  .colab-df-quickchart-complete:disabled,\n",
              "  .colab-df-quickchart-complete:disabled:hover {\n",
              "    background-color: var(--disabled-bg-color);\n",
              "    fill: var(--disabled-fill-color);\n",
              "    box-shadow: none;\n",
              "  }\n",
              "\n",
              "  .colab-df-spinner {\n",
              "    border: 2px solid var(--fill-color);\n",
              "    border-color: transparent;\n",
              "    border-bottom-color: var(--fill-color);\n",
              "    animation:\n",
              "      spin 1s steps(1) infinite;\n",
              "  }\n",
              "\n",
              "  @keyframes spin {\n",
              "    0% {\n",
              "      border-color: transparent;\n",
              "      border-bottom-color: var(--fill-color);\n",
              "      border-left-color: var(--fill-color);\n",
              "    }\n",
              "    20% {\n",
              "      border-color: transparent;\n",
              "      border-left-color: var(--fill-color);\n",
              "      border-top-color: var(--fill-color);\n",
              "    }\n",
              "    30% {\n",
              "      border-color: transparent;\n",
              "      border-left-color: var(--fill-color);\n",
              "      border-top-color: var(--fill-color);\n",
              "      border-right-color: var(--fill-color);\n",
              "    }\n",
              "    40% {\n",
              "      border-color: transparent;\n",
              "      border-right-color: var(--fill-color);\n",
              "      border-top-color: var(--fill-color);\n",
              "    }\n",
              "    60% {\n",
              "      border-color: transparent;\n",
              "      border-right-color: var(--fill-color);\n",
              "    }\n",
              "    80% {\n",
              "      border-color: transparent;\n",
              "      border-right-color: var(--fill-color);\n",
              "      border-bottom-color: var(--fill-color);\n",
              "    }\n",
              "    90% {\n",
              "      border-color: transparent;\n",
              "      border-bottom-color: var(--fill-color);\n",
              "    }\n",
              "  }\n",
              "</style>\n",
              "\n",
              "  <script>\n",
              "    async function quickchart(key) {\n",
              "      const quickchartButtonEl =\n",
              "        document.querySelector('#' + key + ' button');\n",
              "      quickchartButtonEl.disabled = true;  // To prevent multiple clicks.\n",
              "      quickchartButtonEl.classList.add('colab-df-spinner');\n",
              "      try {\n",
              "        const charts = await google.colab.kernel.invokeFunction(\n",
              "            'suggestCharts', [key], {});\n",
              "      } catch (error) {\n",
              "        console.error('Error during call to suggestCharts:', error);\n",
              "      }\n",
              "      quickchartButtonEl.classList.remove('colab-df-spinner');\n",
              "      quickchartButtonEl.classList.add('colab-df-quickchart-complete');\n",
              "    }\n",
              "    (() => {\n",
              "      let quickchartButtonEl =\n",
              "        document.querySelector('#df-a7087041-aba1-4bc9-945c-5ac7864424f2 button');\n",
              "      quickchartButtonEl.style.display =\n",
              "        google.colab.kernel.accessAllowed ? 'block' : 'none';\n",
              "    })();\n",
              "  </script>\n",
              "</div>\n",
              "\n",
              "    </div>\n",
              "  </div>\n"
            ],
            "application/vnd.google.colaboratory.intrinsic+json": {
              "type": "dataframe",
              "variable_name": "df_1"
            }
          },
          "metadata": {},
          "execution_count": 7
        }
      ]
    },
    {
      "cell_type": "code",
      "source": [
        "df_1.describe(include='all')"
      ],
      "metadata": {
        "colab": {
          "base_uri": "https://localhost:8080/",
          "height": 478
        },
        "id": "3LrcgzqltK5-",
        "outputId": "a439d575-a228-4d11-8824-3e558b6413e5",
        "collapsed": true
      },
      "execution_count": null,
      "outputs": [
        {
          "output_type": "execute_result",
          "data": {
            "text/plain": [
              "            itching    skin_rash  nodal_skin_eruptions  continuous_sneezing  \\\n",
              "count   4920.000000  4920.000000           4920.000000          4920.000000   \n",
              "unique          NaN          NaN                   NaN                  NaN   \n",
              "top             NaN          NaN                   NaN                  NaN   \n",
              "freq            NaN          NaN                   NaN                  NaN   \n",
              "mean       0.137805     0.159756              0.021951             0.045122   \n",
              "std        0.344730     0.366417              0.146539             0.207593   \n",
              "min        0.000000     0.000000              0.000000             0.000000   \n",
              "25%        0.000000     0.000000              0.000000             0.000000   \n",
              "50%        0.000000     0.000000              0.000000             0.000000   \n",
              "75%        0.000000     0.000000              0.000000             0.000000   \n",
              "max        1.000000     1.000000              1.000000             1.000000   \n",
              "\n",
              "          shivering       chills   joint_pain  stomach_pain      acidity  \\\n",
              "count   4920.000000  4920.000000  4920.000000   4920.000000  4920.000000   \n",
              "unique          NaN          NaN          NaN           NaN          NaN   \n",
              "top             NaN          NaN          NaN           NaN          NaN   \n",
              "freq            NaN          NaN          NaN           NaN          NaN   \n",
              "mean       0.021951     0.162195     0.139024      0.045122     0.045122   \n",
              "std        0.146539     0.368667     0.346007      0.207593     0.207593   \n",
              "min        0.000000     0.000000     0.000000      0.000000     0.000000   \n",
              "25%        0.000000     0.000000     0.000000      0.000000     0.000000   \n",
              "50%        0.000000     0.000000     0.000000      0.000000     0.000000   \n",
              "75%        0.000000     0.000000     0.000000      0.000000     0.000000   \n",
              "max        1.000000     1.000000     1.000000      1.000000     1.000000   \n",
              "\n",
              "        ulcers_on_tongue  ...     scurring  skin_peeling  silver_like_dusting  \\\n",
              "count        4920.000000  ...  4920.000000   4920.000000          4920.000000   \n",
              "unique               NaN  ...          NaN           NaN                  NaN   \n",
              "top                  NaN  ...          NaN           NaN                  NaN   \n",
              "freq                 NaN  ...          NaN           NaN                  NaN   \n",
              "mean            0.021951  ...     0.021951      0.023171             0.023171   \n",
              "std             0.146539  ...     0.146539      0.150461             0.150461   \n",
              "min             0.000000  ...     0.000000      0.000000             0.000000   \n",
              "25%             0.000000  ...     0.000000      0.000000             0.000000   \n",
              "50%             0.000000  ...     0.000000      0.000000             0.000000   \n",
              "75%             0.000000  ...     0.000000      0.000000             0.000000   \n",
              "max             1.000000  ...     1.000000      1.000000             1.000000   \n",
              "\n",
              "        small_dents_in_nails  inflammatory_nails      blister  \\\n",
              "count            4920.000000         4920.000000  4920.000000   \n",
              "unique                   NaN                 NaN          NaN   \n",
              "top                      NaN                 NaN          NaN   \n",
              "freq                     NaN                 NaN          NaN   \n",
              "mean                0.023171            0.023171     0.023171   \n",
              "std                 0.150461            0.150461     0.150461   \n",
              "min                 0.000000            0.000000     0.000000   \n",
              "25%                 0.000000            0.000000     0.000000   \n",
              "50%                 0.000000            0.000000     0.000000   \n",
              "75%                 0.000000            0.000000     0.000000   \n",
              "max                 1.000000            1.000000     1.000000   \n",
              "\n",
              "        red_sore_around_nose  yellow_crust_ooze         prognosis  \\\n",
              "count            4920.000000        4920.000000              4920   \n",
              "unique                   NaN                NaN                41   \n",
              "top                      NaN                NaN  Fungal infection   \n",
              "freq                     NaN                NaN               120   \n",
              "mean                0.023171           0.023171               NaN   \n",
              "std                 0.150461           0.150461               NaN   \n",
              "min                 0.000000           0.000000               NaN   \n",
              "25%                 0.000000           0.000000               NaN   \n",
              "50%                 0.000000           0.000000               NaN   \n",
              "75%                 0.000000           0.000000               NaN   \n",
              "max                 1.000000           1.000000               NaN   \n",
              "\n",
              "        Unnamed: 133  \n",
              "count            0.0  \n",
              "unique           NaN  \n",
              "top              NaN  \n",
              "freq             NaN  \n",
              "mean             NaN  \n",
              "std              NaN  \n",
              "min              NaN  \n",
              "25%              NaN  \n",
              "50%              NaN  \n",
              "75%              NaN  \n",
              "max              NaN  \n",
              "\n",
              "[11 rows x 134 columns]"
            ],
            "text/html": [
              "\n",
              "  <div id=\"df-ce3e63d2-ccb0-42c3-9179-ba820b3d7b0e\" class=\"colab-df-container\">\n",
              "    <div>\n",
              "<style scoped>\n",
              "    .dataframe tbody tr th:only-of-type {\n",
              "        vertical-align: middle;\n",
              "    }\n",
              "\n",
              "    .dataframe tbody tr th {\n",
              "        vertical-align: top;\n",
              "    }\n",
              "\n",
              "    .dataframe thead th {\n",
              "        text-align: right;\n",
              "    }\n",
              "</style>\n",
              "<table border=\"1\" class=\"dataframe\">\n",
              "  <thead>\n",
              "    <tr style=\"text-align: right;\">\n",
              "      <th></th>\n",
              "      <th>itching</th>\n",
              "      <th>skin_rash</th>\n",
              "      <th>nodal_skin_eruptions</th>\n",
              "      <th>continuous_sneezing</th>\n",
              "      <th>shivering</th>\n",
              "      <th>chills</th>\n",
              "      <th>joint_pain</th>\n",
              "      <th>stomach_pain</th>\n",
              "      <th>acidity</th>\n",
              "      <th>ulcers_on_tongue</th>\n",
              "      <th>...</th>\n",
              "      <th>scurring</th>\n",
              "      <th>skin_peeling</th>\n",
              "      <th>silver_like_dusting</th>\n",
              "      <th>small_dents_in_nails</th>\n",
              "      <th>inflammatory_nails</th>\n",
              "      <th>blister</th>\n",
              "      <th>red_sore_around_nose</th>\n",
              "      <th>yellow_crust_ooze</th>\n",
              "      <th>prognosis</th>\n",
              "      <th>Unnamed: 133</th>\n",
              "    </tr>\n",
              "  </thead>\n",
              "  <tbody>\n",
              "    <tr>\n",
              "      <th>count</th>\n",
              "      <td>4920.000000</td>\n",
              "      <td>4920.000000</td>\n",
              "      <td>4920.000000</td>\n",
              "      <td>4920.000000</td>\n",
              "      <td>4920.000000</td>\n",
              "      <td>4920.000000</td>\n",
              "      <td>4920.000000</td>\n",
              "      <td>4920.000000</td>\n",
              "      <td>4920.000000</td>\n",
              "      <td>4920.000000</td>\n",
              "      <td>...</td>\n",
              "      <td>4920.000000</td>\n",
              "      <td>4920.000000</td>\n",
              "      <td>4920.000000</td>\n",
              "      <td>4920.000000</td>\n",
              "      <td>4920.000000</td>\n",
              "      <td>4920.000000</td>\n",
              "      <td>4920.000000</td>\n",
              "      <td>4920.000000</td>\n",
              "      <td>4920</td>\n",
              "      <td>0.0</td>\n",
              "    </tr>\n",
              "    <tr>\n",
              "      <th>unique</th>\n",
              "      <td>NaN</td>\n",
              "      <td>NaN</td>\n",
              "      <td>NaN</td>\n",
              "      <td>NaN</td>\n",
              "      <td>NaN</td>\n",
              "      <td>NaN</td>\n",
              "      <td>NaN</td>\n",
              "      <td>NaN</td>\n",
              "      <td>NaN</td>\n",
              "      <td>NaN</td>\n",
              "      <td>...</td>\n",
              "      <td>NaN</td>\n",
              "      <td>NaN</td>\n",
              "      <td>NaN</td>\n",
              "      <td>NaN</td>\n",
              "      <td>NaN</td>\n",
              "      <td>NaN</td>\n",
              "      <td>NaN</td>\n",
              "      <td>NaN</td>\n",
              "      <td>41</td>\n",
              "      <td>NaN</td>\n",
              "    </tr>\n",
              "    <tr>\n",
              "      <th>top</th>\n",
              "      <td>NaN</td>\n",
              "      <td>NaN</td>\n",
              "      <td>NaN</td>\n",
              "      <td>NaN</td>\n",
              "      <td>NaN</td>\n",
              "      <td>NaN</td>\n",
              "      <td>NaN</td>\n",
              "      <td>NaN</td>\n",
              "      <td>NaN</td>\n",
              "      <td>NaN</td>\n",
              "      <td>...</td>\n",
              "      <td>NaN</td>\n",
              "      <td>NaN</td>\n",
              "      <td>NaN</td>\n",
              "      <td>NaN</td>\n",
              "      <td>NaN</td>\n",
              "      <td>NaN</td>\n",
              "      <td>NaN</td>\n",
              "      <td>NaN</td>\n",
              "      <td>Fungal infection</td>\n",
              "      <td>NaN</td>\n",
              "    </tr>\n",
              "    <tr>\n",
              "      <th>freq</th>\n",
              "      <td>NaN</td>\n",
              "      <td>NaN</td>\n",
              "      <td>NaN</td>\n",
              "      <td>NaN</td>\n",
              "      <td>NaN</td>\n",
              "      <td>NaN</td>\n",
              "      <td>NaN</td>\n",
              "      <td>NaN</td>\n",
              "      <td>NaN</td>\n",
              "      <td>NaN</td>\n",
              "      <td>...</td>\n",
              "      <td>NaN</td>\n",
              "      <td>NaN</td>\n",
              "      <td>NaN</td>\n",
              "      <td>NaN</td>\n",
              "      <td>NaN</td>\n",
              "      <td>NaN</td>\n",
              "      <td>NaN</td>\n",
              "      <td>NaN</td>\n",
              "      <td>120</td>\n",
              "      <td>NaN</td>\n",
              "    </tr>\n",
              "    <tr>\n",
              "      <th>mean</th>\n",
              "      <td>0.137805</td>\n",
              "      <td>0.159756</td>\n",
              "      <td>0.021951</td>\n",
              "      <td>0.045122</td>\n",
              "      <td>0.021951</td>\n",
              "      <td>0.162195</td>\n",
              "      <td>0.139024</td>\n",
              "      <td>0.045122</td>\n",
              "      <td>0.045122</td>\n",
              "      <td>0.021951</td>\n",
              "      <td>...</td>\n",
              "      <td>0.021951</td>\n",
              "      <td>0.023171</td>\n",
              "      <td>0.023171</td>\n",
              "      <td>0.023171</td>\n",
              "      <td>0.023171</td>\n",
              "      <td>0.023171</td>\n",
              "      <td>0.023171</td>\n",
              "      <td>0.023171</td>\n",
              "      <td>NaN</td>\n",
              "      <td>NaN</td>\n",
              "    </tr>\n",
              "    <tr>\n",
              "      <th>std</th>\n",
              "      <td>0.344730</td>\n",
              "      <td>0.366417</td>\n",
              "      <td>0.146539</td>\n",
              "      <td>0.207593</td>\n",
              "      <td>0.146539</td>\n",
              "      <td>0.368667</td>\n",
              "      <td>0.346007</td>\n",
              "      <td>0.207593</td>\n",
              "      <td>0.207593</td>\n",
              "      <td>0.146539</td>\n",
              "      <td>...</td>\n",
              "      <td>0.146539</td>\n",
              "      <td>0.150461</td>\n",
              "      <td>0.150461</td>\n",
              "      <td>0.150461</td>\n",
              "      <td>0.150461</td>\n",
              "      <td>0.150461</td>\n",
              "      <td>0.150461</td>\n",
              "      <td>0.150461</td>\n",
              "      <td>NaN</td>\n",
              "      <td>NaN</td>\n",
              "    </tr>\n",
              "    <tr>\n",
              "      <th>min</th>\n",
              "      <td>0.000000</td>\n",
              "      <td>0.000000</td>\n",
              "      <td>0.000000</td>\n",
              "      <td>0.000000</td>\n",
              "      <td>0.000000</td>\n",
              "      <td>0.000000</td>\n",
              "      <td>0.000000</td>\n",
              "      <td>0.000000</td>\n",
              "      <td>0.000000</td>\n",
              "      <td>0.000000</td>\n",
              "      <td>...</td>\n",
              "      <td>0.000000</td>\n",
              "      <td>0.000000</td>\n",
              "      <td>0.000000</td>\n",
              "      <td>0.000000</td>\n",
              "      <td>0.000000</td>\n",
              "      <td>0.000000</td>\n",
              "      <td>0.000000</td>\n",
              "      <td>0.000000</td>\n",
              "      <td>NaN</td>\n",
              "      <td>NaN</td>\n",
              "    </tr>\n",
              "    <tr>\n",
              "      <th>25%</th>\n",
              "      <td>0.000000</td>\n",
              "      <td>0.000000</td>\n",
              "      <td>0.000000</td>\n",
              "      <td>0.000000</td>\n",
              "      <td>0.000000</td>\n",
              "      <td>0.000000</td>\n",
              "      <td>0.000000</td>\n",
              "      <td>0.000000</td>\n",
              "      <td>0.000000</td>\n",
              "      <td>0.000000</td>\n",
              "      <td>...</td>\n",
              "      <td>0.000000</td>\n",
              "      <td>0.000000</td>\n",
              "      <td>0.000000</td>\n",
              "      <td>0.000000</td>\n",
              "      <td>0.000000</td>\n",
              "      <td>0.000000</td>\n",
              "      <td>0.000000</td>\n",
              "      <td>0.000000</td>\n",
              "      <td>NaN</td>\n",
              "      <td>NaN</td>\n",
              "    </tr>\n",
              "    <tr>\n",
              "      <th>50%</th>\n",
              "      <td>0.000000</td>\n",
              "      <td>0.000000</td>\n",
              "      <td>0.000000</td>\n",
              "      <td>0.000000</td>\n",
              "      <td>0.000000</td>\n",
              "      <td>0.000000</td>\n",
              "      <td>0.000000</td>\n",
              "      <td>0.000000</td>\n",
              "      <td>0.000000</td>\n",
              "      <td>0.000000</td>\n",
              "      <td>...</td>\n",
              "      <td>0.000000</td>\n",
              "      <td>0.000000</td>\n",
              "      <td>0.000000</td>\n",
              "      <td>0.000000</td>\n",
              "      <td>0.000000</td>\n",
              "      <td>0.000000</td>\n",
              "      <td>0.000000</td>\n",
              "      <td>0.000000</td>\n",
              "      <td>NaN</td>\n",
              "      <td>NaN</td>\n",
              "    </tr>\n",
              "    <tr>\n",
              "      <th>75%</th>\n",
              "      <td>0.000000</td>\n",
              "      <td>0.000000</td>\n",
              "      <td>0.000000</td>\n",
              "      <td>0.000000</td>\n",
              "      <td>0.000000</td>\n",
              "      <td>0.000000</td>\n",
              "      <td>0.000000</td>\n",
              "      <td>0.000000</td>\n",
              "      <td>0.000000</td>\n",
              "      <td>0.000000</td>\n",
              "      <td>...</td>\n",
              "      <td>0.000000</td>\n",
              "      <td>0.000000</td>\n",
              "      <td>0.000000</td>\n",
              "      <td>0.000000</td>\n",
              "      <td>0.000000</td>\n",
              "      <td>0.000000</td>\n",
              "      <td>0.000000</td>\n",
              "      <td>0.000000</td>\n",
              "      <td>NaN</td>\n",
              "      <td>NaN</td>\n",
              "    </tr>\n",
              "    <tr>\n",
              "      <th>max</th>\n",
              "      <td>1.000000</td>\n",
              "      <td>1.000000</td>\n",
              "      <td>1.000000</td>\n",
              "      <td>1.000000</td>\n",
              "      <td>1.000000</td>\n",
              "      <td>1.000000</td>\n",
              "      <td>1.000000</td>\n",
              "      <td>1.000000</td>\n",
              "      <td>1.000000</td>\n",
              "      <td>1.000000</td>\n",
              "      <td>...</td>\n",
              "      <td>1.000000</td>\n",
              "      <td>1.000000</td>\n",
              "      <td>1.000000</td>\n",
              "      <td>1.000000</td>\n",
              "      <td>1.000000</td>\n",
              "      <td>1.000000</td>\n",
              "      <td>1.000000</td>\n",
              "      <td>1.000000</td>\n",
              "      <td>NaN</td>\n",
              "      <td>NaN</td>\n",
              "    </tr>\n",
              "  </tbody>\n",
              "</table>\n",
              "<p>11 rows × 134 columns</p>\n",
              "</div>\n",
              "    <div class=\"colab-df-buttons\">\n",
              "\n",
              "  <div class=\"colab-df-container\">\n",
              "    <button class=\"colab-df-convert\" onclick=\"convertToInteractive('df-ce3e63d2-ccb0-42c3-9179-ba820b3d7b0e')\"\n",
              "            title=\"Convert this dataframe to an interactive table.\"\n",
              "            style=\"display:none;\">\n",
              "\n",
              "  <svg xmlns=\"http://www.w3.org/2000/svg\" height=\"24px\" viewBox=\"0 -960 960 960\">\n",
              "    <path d=\"M120-120v-720h720v720H120Zm60-500h600v-160H180v160Zm220 220h160v-160H400v160Zm0 220h160v-160H400v160ZM180-400h160v-160H180v160Zm440 0h160v-160H620v160ZM180-180h160v-160H180v160Zm440 0h160v-160H620v160Z\"/>\n",
              "  </svg>\n",
              "    </button>\n",
              "\n",
              "  <style>\n",
              "    .colab-df-container {\n",
              "      display:flex;\n",
              "      gap: 12px;\n",
              "    }\n",
              "\n",
              "    .colab-df-convert {\n",
              "      background-color: #E8F0FE;\n",
              "      border: none;\n",
              "      border-radius: 50%;\n",
              "      cursor: pointer;\n",
              "      display: none;\n",
              "      fill: #1967D2;\n",
              "      height: 32px;\n",
              "      padding: 0 0 0 0;\n",
              "      width: 32px;\n",
              "    }\n",
              "\n",
              "    .colab-df-convert:hover {\n",
              "      background-color: #E2EBFA;\n",
              "      box-shadow: 0px 1px 2px rgba(60, 64, 67, 0.3), 0px 1px 3px 1px rgba(60, 64, 67, 0.15);\n",
              "      fill: #174EA6;\n",
              "    }\n",
              "\n",
              "    .colab-df-buttons div {\n",
              "      margin-bottom: 4px;\n",
              "    }\n",
              "\n",
              "    [theme=dark] .colab-df-convert {\n",
              "      background-color: #3B4455;\n",
              "      fill: #D2E3FC;\n",
              "    }\n",
              "\n",
              "    [theme=dark] .colab-df-convert:hover {\n",
              "      background-color: #434B5C;\n",
              "      box-shadow: 0px 1px 3px 1px rgba(0, 0, 0, 0.15);\n",
              "      filter: drop-shadow(0px 1px 2px rgba(0, 0, 0, 0.3));\n",
              "      fill: #FFFFFF;\n",
              "    }\n",
              "  </style>\n",
              "\n",
              "    <script>\n",
              "      const buttonEl =\n",
              "        document.querySelector('#df-ce3e63d2-ccb0-42c3-9179-ba820b3d7b0e button.colab-df-convert');\n",
              "      buttonEl.style.display =\n",
              "        google.colab.kernel.accessAllowed ? 'block' : 'none';\n",
              "\n",
              "      async function convertToInteractive(key) {\n",
              "        const element = document.querySelector('#df-ce3e63d2-ccb0-42c3-9179-ba820b3d7b0e');\n",
              "        const dataTable =\n",
              "          await google.colab.kernel.invokeFunction('convertToInteractive',\n",
              "                                                    [key], {});\n",
              "        if (!dataTable) return;\n",
              "\n",
              "        const docLinkHtml = 'Like what you see? Visit the ' +\n",
              "          '<a target=\"_blank\" href=https://colab.research.google.com/notebooks/data_table.ipynb>data table notebook</a>'\n",
              "          + ' to learn more about interactive tables.';\n",
              "        element.innerHTML = '';\n",
              "        dataTable['output_type'] = 'display_data';\n",
              "        await google.colab.output.renderOutput(dataTable, element);\n",
              "        const docLink = document.createElement('div');\n",
              "        docLink.innerHTML = docLinkHtml;\n",
              "        element.appendChild(docLink);\n",
              "      }\n",
              "    </script>\n",
              "  </div>\n",
              "\n",
              "\n",
              "<div id=\"df-33748eca-39fc-48a7-907b-b17ac6c594ea\">\n",
              "  <button class=\"colab-df-quickchart\" onclick=\"quickchart('df-33748eca-39fc-48a7-907b-b17ac6c594ea')\"\n",
              "            title=\"Suggest charts\"\n",
              "            style=\"display:none;\">\n",
              "\n",
              "<svg xmlns=\"http://www.w3.org/2000/svg\" height=\"24px\"viewBox=\"0 0 24 24\"\n",
              "     width=\"24px\">\n",
              "    <g>\n",
              "        <path d=\"M19 3H5c-1.1 0-2 .9-2 2v14c0 1.1.9 2 2 2h14c1.1 0 2-.9 2-2V5c0-1.1-.9-2-2-2zM9 17H7v-7h2v7zm4 0h-2V7h2v10zm4 0h-2v-4h2v4z\"/>\n",
              "    </g>\n",
              "</svg>\n",
              "  </button>\n",
              "\n",
              "<style>\n",
              "  .colab-df-quickchart {\n",
              "      --bg-color: #E8F0FE;\n",
              "      --fill-color: #1967D2;\n",
              "      --hover-bg-color: #E2EBFA;\n",
              "      --hover-fill-color: #174EA6;\n",
              "      --disabled-fill-color: #AAA;\n",
              "      --disabled-bg-color: #DDD;\n",
              "  }\n",
              "\n",
              "  [theme=dark] .colab-df-quickchart {\n",
              "      --bg-color: #3B4455;\n",
              "      --fill-color: #D2E3FC;\n",
              "      --hover-bg-color: #434B5C;\n",
              "      --hover-fill-color: #FFFFFF;\n",
              "      --disabled-bg-color: #3B4455;\n",
              "      --disabled-fill-color: #666;\n",
              "  }\n",
              "\n",
              "  .colab-df-quickchart {\n",
              "    background-color: var(--bg-color);\n",
              "    border: none;\n",
              "    border-radius: 50%;\n",
              "    cursor: pointer;\n",
              "    display: none;\n",
              "    fill: var(--fill-color);\n",
              "    height: 32px;\n",
              "    padding: 0;\n",
              "    width: 32px;\n",
              "  }\n",
              "\n",
              "  .colab-df-quickchart:hover {\n",
              "    background-color: var(--hover-bg-color);\n",
              "    box-shadow: 0 1px 2px rgba(60, 64, 67, 0.3), 0 1px 3px 1px rgba(60, 64, 67, 0.15);\n",
              "    fill: var(--button-hover-fill-color);\n",
              "  }\n",
              "\n",
              "  .colab-df-quickchart-complete:disabled,\n",
              "  .colab-df-quickchart-complete:disabled:hover {\n",
              "    background-color: var(--disabled-bg-color);\n",
              "    fill: var(--disabled-fill-color);\n",
              "    box-shadow: none;\n",
              "  }\n",
              "\n",
              "  .colab-df-spinner {\n",
              "    border: 2px solid var(--fill-color);\n",
              "    border-color: transparent;\n",
              "    border-bottom-color: var(--fill-color);\n",
              "    animation:\n",
              "      spin 1s steps(1) infinite;\n",
              "  }\n",
              "\n",
              "  @keyframes spin {\n",
              "    0% {\n",
              "      border-color: transparent;\n",
              "      border-bottom-color: var(--fill-color);\n",
              "      border-left-color: var(--fill-color);\n",
              "    }\n",
              "    20% {\n",
              "      border-color: transparent;\n",
              "      border-left-color: var(--fill-color);\n",
              "      border-top-color: var(--fill-color);\n",
              "    }\n",
              "    30% {\n",
              "      border-color: transparent;\n",
              "      border-left-color: var(--fill-color);\n",
              "      border-top-color: var(--fill-color);\n",
              "      border-right-color: var(--fill-color);\n",
              "    }\n",
              "    40% {\n",
              "      border-color: transparent;\n",
              "      border-right-color: var(--fill-color);\n",
              "      border-top-color: var(--fill-color);\n",
              "    }\n",
              "    60% {\n",
              "      border-color: transparent;\n",
              "      border-right-color: var(--fill-color);\n",
              "    }\n",
              "    80% {\n",
              "      border-color: transparent;\n",
              "      border-right-color: var(--fill-color);\n",
              "      border-bottom-color: var(--fill-color);\n",
              "    }\n",
              "    90% {\n",
              "      border-color: transparent;\n",
              "      border-bottom-color: var(--fill-color);\n",
              "    }\n",
              "  }\n",
              "</style>\n",
              "\n",
              "  <script>\n",
              "    async function quickchart(key) {\n",
              "      const quickchartButtonEl =\n",
              "        document.querySelector('#' + key + ' button');\n",
              "      quickchartButtonEl.disabled = true;  // To prevent multiple clicks.\n",
              "      quickchartButtonEl.classList.add('colab-df-spinner');\n",
              "      try {\n",
              "        const charts = await google.colab.kernel.invokeFunction(\n",
              "            'suggestCharts', [key], {});\n",
              "      } catch (error) {\n",
              "        console.error('Error during call to suggestCharts:', error);\n",
              "      }\n",
              "      quickchartButtonEl.classList.remove('colab-df-spinner');\n",
              "      quickchartButtonEl.classList.add('colab-df-quickchart-complete');\n",
              "    }\n",
              "    (() => {\n",
              "      let quickchartButtonEl =\n",
              "        document.querySelector('#df-33748eca-39fc-48a7-907b-b17ac6c594ea button');\n",
              "      quickchartButtonEl.style.display =\n",
              "        google.colab.kernel.accessAllowed ? 'block' : 'none';\n",
              "    })();\n",
              "  </script>\n",
              "</div>\n",
              "\n",
              "    </div>\n",
              "  </div>\n"
            ],
            "application/vnd.google.colaboratory.intrinsic+json": {
              "type": "dataframe"
            }
          },
          "metadata": {},
          "execution_count": 8
        }
      ]
    },
    {
      "cell_type": "code",
      "source": [
        "df_1.info(verbose= True, buf=None, max_cols=None, memory_usage=None, show_counts= True)"
      ],
      "metadata": {
        "colab": {
          "base_uri": "https://localhost:8080/"
        },
        "collapsed": true,
        "id": "0jcnWPFutF82",
        "outputId": "3957fd5b-c39c-4886-c143-45b7630b8c13"
      },
      "execution_count": null,
      "outputs": [
        {
          "output_type": "stream",
          "name": "stdout",
          "text": [
            "<class 'pandas.core.frame.DataFrame'>\n",
            "RangeIndex: 4920 entries, 0 to 4919\n",
            "Data columns (total 134 columns):\n",
            " #    Column                          Non-Null Count  Dtype  \n",
            "---   ------                          --------------  -----  \n",
            " 0    itching                         4920 non-null   int64  \n",
            " 1    skin_rash                       4920 non-null   int64  \n",
            " 2    nodal_skin_eruptions            4920 non-null   int64  \n",
            " 3    continuous_sneezing             4920 non-null   int64  \n",
            " 4    shivering                       4920 non-null   int64  \n",
            " 5    chills                          4920 non-null   int64  \n",
            " 6    joint_pain                      4920 non-null   int64  \n",
            " 7    stomach_pain                    4920 non-null   int64  \n",
            " 8    acidity                         4920 non-null   int64  \n",
            " 9    ulcers_on_tongue                4920 non-null   int64  \n",
            " 10   muscle_wasting                  4920 non-null   int64  \n",
            " 11   vomiting                        4920 non-null   int64  \n",
            " 12   burning_micturition             4920 non-null   int64  \n",
            " 13   spotting_ urination             4920 non-null   int64  \n",
            " 14   fatigue                         4920 non-null   int64  \n",
            " 15   weight_gain                     4920 non-null   int64  \n",
            " 16   anxiety                         4920 non-null   int64  \n",
            " 17   cold_hands_and_feets            4920 non-null   int64  \n",
            " 18   mood_swings                     4920 non-null   int64  \n",
            " 19   weight_loss                     4920 non-null   int64  \n",
            " 20   restlessness                    4920 non-null   int64  \n",
            " 21   lethargy                        4920 non-null   int64  \n",
            " 22   patches_in_throat               4920 non-null   int64  \n",
            " 23   irregular_sugar_level           4920 non-null   int64  \n",
            " 24   cough                           4920 non-null   int64  \n",
            " 25   high_fever                      4920 non-null   int64  \n",
            " 26   sunken_eyes                     4920 non-null   int64  \n",
            " 27   breathlessness                  4920 non-null   int64  \n",
            " 28   sweating                        4920 non-null   int64  \n",
            " 29   dehydration                     4920 non-null   int64  \n",
            " 30   indigestion                     4920 non-null   int64  \n",
            " 31   headache                        4920 non-null   int64  \n",
            " 32   yellowish_skin                  4920 non-null   int64  \n",
            " 33   dark_urine                      4920 non-null   int64  \n",
            " 34   nausea                          4920 non-null   int64  \n",
            " 35   loss_of_appetite                4920 non-null   int64  \n",
            " 36   pain_behind_the_eyes            4920 non-null   int64  \n",
            " 37   back_pain                       4920 non-null   int64  \n",
            " 38   constipation                    4920 non-null   int64  \n",
            " 39   abdominal_pain                  4920 non-null   int64  \n",
            " 40   diarrhoea                       4920 non-null   int64  \n",
            " 41   mild_fever                      4920 non-null   int64  \n",
            " 42   yellow_urine                    4920 non-null   int64  \n",
            " 43   yellowing_of_eyes               4920 non-null   int64  \n",
            " 44   acute_liver_failure             4920 non-null   int64  \n",
            " 45   fluid_overload                  4920 non-null   int64  \n",
            " 46   swelling_of_stomach             4920 non-null   int64  \n",
            " 47   swelled_lymph_nodes             4920 non-null   int64  \n",
            " 48   malaise                         4920 non-null   int64  \n",
            " 49   blurred_and_distorted_vision    4920 non-null   int64  \n",
            " 50   phlegm                          4920 non-null   int64  \n",
            " 51   throat_irritation               4920 non-null   int64  \n",
            " 52   redness_of_eyes                 4920 non-null   int64  \n",
            " 53   sinus_pressure                  4920 non-null   int64  \n",
            " 54   runny_nose                      4920 non-null   int64  \n",
            " 55   congestion                      4920 non-null   int64  \n",
            " 56   chest_pain                      4920 non-null   int64  \n",
            " 57   weakness_in_limbs               4920 non-null   int64  \n",
            " 58   fast_heart_rate                 4920 non-null   int64  \n",
            " 59   pain_during_bowel_movements     4920 non-null   int64  \n",
            " 60   pain_in_anal_region             4920 non-null   int64  \n",
            " 61   bloody_stool                    4920 non-null   int64  \n",
            " 62   irritation_in_anus              4920 non-null   int64  \n",
            " 63   neck_pain                       4920 non-null   int64  \n",
            " 64   dizziness                       4920 non-null   int64  \n",
            " 65   cramps                          4920 non-null   int64  \n",
            " 66   bruising                        4920 non-null   int64  \n",
            " 67   obesity                         4920 non-null   int64  \n",
            " 68   swollen_legs                    4920 non-null   int64  \n",
            " 69   swollen_blood_vessels           4920 non-null   int64  \n",
            " 70   puffy_face_and_eyes             4920 non-null   int64  \n",
            " 71   enlarged_thyroid                4920 non-null   int64  \n",
            " 72   brittle_nails                   4920 non-null   int64  \n",
            " 73   swollen_extremeties             4920 non-null   int64  \n",
            " 74   excessive_hunger                4920 non-null   int64  \n",
            " 75   extra_marital_contacts          4920 non-null   int64  \n",
            " 76   drying_and_tingling_lips        4920 non-null   int64  \n",
            " 77   slurred_speech                  4920 non-null   int64  \n",
            " 78   knee_pain                       4920 non-null   int64  \n",
            " 79   hip_joint_pain                  4920 non-null   int64  \n",
            " 80   muscle_weakness                 4920 non-null   int64  \n",
            " 81   stiff_neck                      4920 non-null   int64  \n",
            " 82   swelling_joints                 4920 non-null   int64  \n",
            " 83   movement_stiffness              4920 non-null   int64  \n",
            " 84   spinning_movements              4920 non-null   int64  \n",
            " 85   loss_of_balance                 4920 non-null   int64  \n",
            " 86   unsteadiness                    4920 non-null   int64  \n",
            " 87   weakness_of_one_body_side       4920 non-null   int64  \n",
            " 88   loss_of_smell                   4920 non-null   int64  \n",
            " 89   bladder_discomfort              4920 non-null   int64  \n",
            " 90   foul_smell_of urine             4920 non-null   int64  \n",
            " 91   continuous_feel_of_urine        4920 non-null   int64  \n",
            " 92   passage_of_gases                4920 non-null   int64  \n",
            " 93   internal_itching                4920 non-null   int64  \n",
            " 94   toxic_look_(typhos)             4920 non-null   int64  \n",
            " 95   depression                      4920 non-null   int64  \n",
            " 96   irritability                    4920 non-null   int64  \n",
            " 97   muscle_pain                     4920 non-null   int64  \n",
            " 98   altered_sensorium               4920 non-null   int64  \n",
            " 99   red_spots_over_body             4920 non-null   int64  \n",
            " 100  belly_pain                      4920 non-null   int64  \n",
            " 101  abnormal_menstruation           4920 non-null   int64  \n",
            " 102  dischromic _patches             4920 non-null   int64  \n",
            " 103  watering_from_eyes              4920 non-null   int64  \n",
            " 104  increased_appetite              4920 non-null   int64  \n",
            " 105  polyuria                        4920 non-null   int64  \n",
            " 106  family_history                  4920 non-null   int64  \n",
            " 107  mucoid_sputum                   4920 non-null   int64  \n",
            " 108  rusty_sputum                    4920 non-null   int64  \n",
            " 109  lack_of_concentration           4920 non-null   int64  \n",
            " 110  visual_disturbances             4920 non-null   int64  \n",
            " 111  receiving_blood_transfusion     4920 non-null   int64  \n",
            " 112  receiving_unsterile_injections  4920 non-null   int64  \n",
            " 113  coma                            4920 non-null   int64  \n",
            " 114  stomach_bleeding                4920 non-null   int64  \n",
            " 115  distention_of_abdomen           4920 non-null   int64  \n",
            " 116  history_of_alcohol_consumption  4920 non-null   int64  \n",
            " 117  fluid_overload.1                4920 non-null   int64  \n",
            " 118  blood_in_sputum                 4920 non-null   int64  \n",
            " 119  prominent_veins_on_calf         4920 non-null   int64  \n",
            " 120  palpitations                    4920 non-null   int64  \n",
            " 121  painful_walking                 4920 non-null   int64  \n",
            " 122  pus_filled_pimples              4920 non-null   int64  \n",
            " 123  blackheads                      4920 non-null   int64  \n",
            " 124  scurring                        4920 non-null   int64  \n",
            " 125  skin_peeling                    4920 non-null   int64  \n",
            " 126  silver_like_dusting             4920 non-null   int64  \n",
            " 127  small_dents_in_nails            4920 non-null   int64  \n",
            " 128  inflammatory_nails              4920 non-null   int64  \n",
            " 129  blister                         4920 non-null   int64  \n",
            " 130  red_sore_around_nose            4920 non-null   int64  \n",
            " 131  yellow_crust_ooze               4920 non-null   int64  \n",
            " 132  prognosis                       4920 non-null   object \n",
            " 133  Unnamed: 133                    0 non-null      float64\n",
            "dtypes: float64(1), int64(132), object(1)\n",
            "memory usage: 5.0+ MB\n"
          ]
        }
      ]
    },
    {
      "cell_type": "code",
      "source": [
        "df_1.columns"
      ],
      "metadata": {
        "colab": {
          "base_uri": "https://localhost:8080/"
        },
        "id": "Fw2K3cCnwuFb",
        "outputId": "e52ae68f-f1a1-4b50-8d04-834a1af1e087"
      },
      "execution_count": null,
      "outputs": [
        {
          "output_type": "execute_result",
          "data": {
            "text/plain": [
              "Index(['itching', 'skin_rash', 'nodal_skin_eruptions', 'continuous_sneezing',\n",
              "       'shivering', 'chills', 'joint_pain', 'stomach_pain', 'acidity',\n",
              "       'ulcers_on_tongue',\n",
              "       ...\n",
              "       'scurring', 'skin_peeling', 'silver_like_dusting',\n",
              "       'small_dents_in_nails', 'inflammatory_nails', 'blister',\n",
              "       'red_sore_around_nose', 'yellow_crust_ooze', 'prognosis',\n",
              "       'Unnamed: 133'],\n",
              "      dtype='object', length=134)"
            ]
          },
          "metadata": {},
          "execution_count": 10
        }
      ]
    },
    {
      "cell_type": "code",
      "source": [
        "df_1.shape # get dimensions, qty of rows, columns"
      ],
      "metadata": {
        "colab": {
          "base_uri": "https://localhost:8080/"
        },
        "id": "1hHAm7EUtJpm",
        "outputId": "927a9128-4e5c-4ce8-bdd9-e3aa9a6d9ecb"
      },
      "execution_count": null,
      "outputs": [
        {
          "output_type": "execute_result",
          "data": {
            "text/plain": [
              "(4920, 134)"
            ]
          },
          "metadata": {},
          "execution_count": 11
        }
      ]
    },
    {
      "cell_type": "code",
      "source": [
        "df_1['Unnamed: 133'].unique()"
      ],
      "metadata": {
        "colab": {
          "base_uri": "https://localhost:8080/"
        },
        "id": "XBj3yWaswm30",
        "outputId": "12ffbf54-9c83-4815-8d32-dab69637791e"
      },
      "execution_count": null,
      "outputs": [
        {
          "output_type": "execute_result",
          "data": {
            "text/plain": [
              "array([nan])"
            ]
          },
          "metadata": {},
          "execution_count": 12
        }
      ]
    },
    {
      "cell_type": "code",
      "source": [
        "# Drop col; df_1['Unnamed: 133']\n",
        "df_1.drop('Unnamed: 133', axis=1, inplace=True)"
      ],
      "metadata": {
        "id": "V0qFE9vqxGZD"
      },
      "execution_count": null,
      "outputs": []
    },
    {
      "cell_type": "code",
      "source": [
        "df_1.shape"
      ],
      "metadata": {
        "colab": {
          "base_uri": "https://localhost:8080/"
        },
        "id": "A3Puf8HxxTyi",
        "outputId": "9b8c61de-d482-4edf-af0e-2a50b81c6964"
      },
      "execution_count": null,
      "outputs": [
        {
          "output_type": "execute_result",
          "data": {
            "text/plain": [
              "(4920, 133)"
            ]
          },
          "metadata": {},
          "execution_count": 14
        }
      ]
    },
    {
      "cell_type": "code",
      "source": [
        "# only 133 columns now; 1-less than previous 134. drop column successful."
      ],
      "metadata": {
        "id": "ZT8UqjrGxZNK"
      },
      "execution_count": null,
      "outputs": []
    },
    {
      "cell_type": "code",
      "source": [
        "# df_1.value_counts(dropna=False)\n",
        "# too much output, do not use on ALL cols, shortlist columns then use value_counts"
      ],
      "metadata": {
        "id": "j1abfw1Qxqq6",
        "collapsed": true
      },
      "execution_count": null,
      "outputs": []
    },
    {
      "cell_type": "code",
      "source": [
        "# # Reading the train.csv by removing the\n",
        "# # last column since it's an empty column\n",
        "# DATA_PATH = \"dataset/Training.csv\"\n",
        "# data = pd.read_csv(DATA_PATH).dropna(axis = 1)\n"
      ],
      "metadata": {
        "id": "mbiRrssZrtsP"
      },
      "execution_count": null,
      "outputs": []
    },
    {
      "cell_type": "markdown",
      "source": [
        "## is dataset balanced ?"
      ],
      "metadata": {
        "id": "VojRXN6pPU3w"
      }
    },
    {
      "cell_type": "code",
      "source": [
        "# Checking whether the dataset is balanced or not\n",
        "disease_counts = df_1[\"prognosis\"].value_counts()\n",
        "temp_df = pd.DataFrame({\n",
        "\t\"Disease\": disease_counts.index,\n",
        "\t\"Counts\": disease_counts.values\n",
        "})\n",
        "\n",
        "plt.figure(figsize = (18,8))\n",
        "\n",
        "sns.barplot(x = \"Disease\", y = \"Counts\", data = temp_df)\n",
        "plt.xticks(rotation=90)\n",
        "plt.show()"
      ],
      "metadata": {
        "colab": {
          "base_uri": "https://localhost:8080/",
          "height": 947
        },
        "id": "tZU5iN4JPTkv",
        "outputId": "b9390e3c-fdd2-4c01-a21d-0e8173aa8b39"
      },
      "execution_count": null,
      "outputs": [
        {
          "output_type": "display_data",
          "data": {
            "text/plain": [
              "<Figure size 1800x800 with 1 Axes>"
            ],
            "image/png": "[encoded data removed]"
          },
          "metadata": {}
        }
      ]
    },
    {
      "cell_type": "markdown",
      "source": [
        "As seen from above plot, there are 120 rows/observations for each disease."
      ],
      "metadata": {
        "id": "W9nDbWWPP7xZ"
      }
    },
    {
      "cell_type": "code",
      "source": [
        "df_1[\"prognosis\"].info()"
      ],
      "metadata": {
        "colab": {
          "base_uri": "https://localhost:8080/"
        },
        "id": "6NSYkBFpSc7O",
        "outputId": "395322e8-b720-4f57-f617-5ec607fe0968"
      },
      "execution_count": null,
      "outputs": [
        {
          "output_type": "stream",
          "name": "stdout",
          "text": [
            "<class 'pandas.core.series.Series'>\n",
            "RangeIndex: 4920 entries, 0 to 4919\n",
            "Series name: prognosis\n",
            "Non-Null Count  Dtype \n",
            "--------------  ----- \n",
            "4920 non-null   object\n",
            "dtypes: object(1)\n",
            "memory usage: 38.6+ KB\n"
          ]
        }
      ]
    },
    {
      "cell_type": "markdown",
      "source": [
        "Target variable, col \"prognosis\", is of datatype \"object\".\n",
        "That is Target variable has multiple classess, each representing a disease.\n",
        "Disease name itself is a label.\n",
        "Need to normalize labels.\n",
        "So use label encoder."
      ],
      "metadata": {
        "id": "SQ-uhSyuSpbV"
      }
    },
    {
      "cell_type": "code",
      "source": [
        "df_1[\"prognosis\"].unique()\n",
        "# Gives/returns labels that are unique.\n",
        "# We can think of this operations as \"remove duplicates\"."
      ],
      "metadata": {
        "colab": {
          "base_uri": "https://localhost:8080/"
        },
        "id": "eoDExh_T9beK",
        "outputId": "c621cdda-f1fc-48d9-b719-9ce90cef70d5"
      },
      "execution_count": null,
      "outputs": [
        {
          "output_type": "execute_result",
          "data": {
            "text/plain": [
              "array(['Fungal infection', 'Allergy', 'GERD', 'Chronic cholestasis',\n",
              "       'Drug Reaction', 'Peptic ulcer diseae', 'AIDS', 'Diabetes ',\n",
              "       'Gastroenteritis', 'Bronchial Asthma', 'Hypertension ', 'Migraine',\n",
              "       'Cervical spondylosis', 'Paralysis (brain hemorrhage)', 'Jaundice',\n",
              "       'Malaria', 'Chicken pox', 'Dengue', 'Typhoid', 'hepatitis A',\n",
              "       'Hepatitis B', 'Hepatitis C', 'Hepatitis D', 'Hepatitis E',\n",
              "       'Alcoholic hepatitis', 'Tuberculosis', 'Common Cold', 'Pneumonia',\n",
              "       'Dimorphic hemmorhoids(piles)', 'Heart attack', 'Varicose veins',\n",
              "       'Hypothyroidism', 'Hyperthyroidism', 'Hypoglycemia',\n",
              "       'Osteoarthristis', 'Arthritis',\n",
              "       '(vertigo) Paroymsal  Positional Vertigo', 'Acne',\n",
              "       'Urinary tract infection', 'Psoriasis', 'Impetigo'], dtype=object)"
            ]
          },
          "metadata": {},
          "execution_count": 20
        }
      ]
    },
    {
      "cell_type": "code",
      "source": [
        "qty_of_target_classes = len(df_1[\"prognosis\"].unique())\n",
        "print(\"qty_of_target_classes= \", qty_of_target_classes)\n",
        "# Gives/returns how many classes in target var."
      ],
      "metadata": {
        "colab": {
          "base_uri": "https://localhost:8080/"
        },
        "id": "wF07r-xD83lq",
        "outputId": "824737c7-fa0b-40d3-cac0-f0993c78e8c3"
      },
      "execution_count": null,
      "outputs": [
        {
          "output_type": "stream",
          "name": "stdout",
          "text": [
            "qty_of_target_classes=  41\n"
          ]
        }
      ]
    },
    {
      "cell_type": "code",
      "source": [
        "# Encoding the Target variable, col \"prognosis\" using LabelEncoder transformer.\n",
        "# Encode target labels with value between 0 and n_classes-1; not the input X.\n",
        "# LabelEncoder can be used to normalize labels.\n",
        "# This is a supervised learning ML effort.\n",
        "encoder = LabelEncoder()\n",
        "df_1[\"prognosis\"] = encoder.fit_transform(df_1[\"prognosis\"])\n"
      ],
      "metadata": {
        "id": "mFb-FCuAS_se"
      },
      "execution_count": null,
      "outputs": []
    },
    {
      "cell_type": "code",
      "source": [
        "# df_1[\"prognosis\"].value_counts().sort_index()"
      ],
      "metadata": {
        "id": "Rkue5GKaDlIA"
      },
      "execution_count": null,
      "outputs": []
    },
    {
      "cell_type": "markdown",
      "source": [
        "## Split into train and test datasets"
      ],
      "metadata": {
        "id": "EcKLe1TYTjI9"
      }
    },
    {
      "cell_type": "code",
      "source": [
        "# predictor vars\n",
        "# all rows. all cols except target var col.\n",
        "X = df_1.iloc[:,:-1]\n",
        "# df.iloc => Purely integer-location based indexing for selection by position.\n",
        "\n",
        "# target var col to be predicted\n",
        "y = df_1.iloc[:, -1]\n",
        "\n",
        "# split into train and test datasets\n",
        "X_train, X_test, y_train, y_test = train_test_split(X,\n",
        "                                                   y,\n",
        "                                                   test_size = 0.2,\n",
        "                                                   random_state = 24)\n",
        "\n",
        "print(f\"Train: {X_train.shape}, {y_train.shape}\")\n",
        "print(f\"Test: {X_test.shape}, {y_test.shape}\")\n"
      ],
      "metadata": {
        "colab": {
          "base_uri": "https://localhost:8080/"
        },
        "id": "L4YeXaXhTXwd",
        "outputId": "1452d9d2-4526-480e-9528-1920c1a5f5de"
      },
      "execution_count": null,
      "outputs": [
        {
          "output_type": "stream",
          "name": "stdout",
          "text": [
            "Train: (3936, 132), (3936,)\n",
            "Test: (984, 132), (984,)\n"
          ]
        }
      ]
    },
    {
      "cell_type": "markdown",
      "source": [
        "## Model Building"
      ],
      "metadata": {
        "id": "s4pimuNRyNAE"
      }
    },
    {
      "cell_type": "markdown",
      "source": [
        "Supervised machine learning.\n",
        "- Target variable \"prognosis\", as disease names, which are known labels/target var values,\n",
        "-- so supervised;\n",
        "- which is multi-class, as different disease names;\n",
        "- was encoded previously, by LabelEncoder;\n",
        "-- so use classification algo."
      ],
      "metadata": {
        "id": "qOOeiKR5yVO8"
      }
    },
    {
      "cell_type": "markdown",
      "source": [
        "Use k-fold cross-validation--\n",
        "- to increase \"generalization\" of model (model performs better on unseen data/ general data/ real-world data) when compared to model trained without k-fold cross-validation.\n",
        "- to detect over-fitting (model works great on training data, but works really bad on unseen data, because model \"overfits\" to training data)"
      ],
      "metadata": {
        "id": "wO_Pft5Jzngj"
      }
    },
    {
      "cell_type": "code",
      "source": [
        "# Create new function for getting/returning scoring metric for k-fold cross validation\n",
        "def cv_score_return(estimator, X, y):\n",
        "\treturn accuracy_score(y, estimator.predict(X))"
      ],
      "metadata": {
        "id": "FC1RrUYJyOv8"
      },
      "execution_count": null,
      "outputs": []
    },
    {
      "cell_type": "markdown",
      "source": [
        "sklearn.metrics.accuracy_score(y_true, y_pred, *, normalize=True, sample_weight=None)\n",
        "Accuracy classification score.\n",
        "\n",
        "In multilabel classification, this function computes subset accuracy: the set of labels predicted for a sample must exactly match the corresponding set of labels in y_true. [ref: https://scikit-learn.org/stable/modules/generated/sklearn.metrics.accuracy_score.html ]"
      ],
      "metadata": {
        "id": "0Lfrmiv13X6n"
      }
    },
    {
      "cell_type": "code",
      "source": [
        "# Initializing Models\n",
        "models_dict = {\n",
        "\t\"SVC\":SVC(),\n",
        "\t\"Gaussian NB\":GaussianNB(),\n",
        "\t\"Random Forest\":RandomForestClassifier(random_state=18)\n",
        "}"
      ],
      "metadata": {
        "id": "XK5Ub-Wd2Cxw"
      },
      "execution_count": null,
      "outputs": []
    },
    {
      "cell_type": "markdown",
      "source": [
        "Support Vector Machines Classifier:\n",
        "- given a labeled training data, the algorithm tries to find an optimal hyperplane that accurately separates the samples into different categories in hyperspace.\n",
        "\n"
      ],
      "metadata": {
        "id": "OHFIjeHw3r7H"
      }
    },
    {
      "cell_type": "markdown",
      "source": [
        "Gaussian Naive Bayes Classifier:\n",
        "- probabilistic machine learning algorithm that internally uses Bayes Theorem to classify the data points."
      ],
      "metadata": {
        "id": "qCKczV_s33xP"
      }
    },
    {
      "cell_type": "markdown",
      "source": [
        "Random Forest Classifier:\n",
        "- ensemble learning-based supervised machine learning classification algorithm that internally uses multiple decision trees to make the classification."
      ],
      "metadata": {
        "id": "ksCCpHyT3_Bm"
      }
    },
    {
      "cell_type": "code",
      "source": [
        "# Get cross validation score for each of the models\n",
        "for model_name_key in models_dict:\n",
        "  # for key in dict\n",
        "\tmodel_name_value = models_dict[model_name_key]\n",
        "  # extract value from key:value pair in dict\n",
        "\tscores = cross_val_score(model_name_value,\n",
        "                          X,\n",
        "                          y,\n",
        "                          cv = 10,\n",
        "    # cv=int, to specify the number of folds in a (Stratified)KFold,\n",
        "    # For int input, if the estimator is a classifier (yes, in this use-case)\n",
        "    # and y is either binary or multiclass, (multi-class, in this use-case)\n",
        "    # THEN, StratifiedKFold is used.\n",
        "                          n_jobs = -1, # -1 means using all processors\n",
        "                          scoring = cv_score_return\n",
        "                          )\n",
        "\tprint(\"==\"*30)\n",
        "\tprint(model_name_key)\n",
        "\tprint(f\"Scores: {scores}\")\n",
        "\tprint(f\"Mean Score: {np.mean(scores)}\")"
      ],
      "metadata": {
        "colab": {
          "base_uri": "https://localhost:8080/"
        },
        "id": "n1hGIGSK2EQ4",
        "outputId": "1d9380a0-4149-4431-fee9-ec8b1c028136"
      },
      "execution_count": null,
      "outputs": [
        {
          "output_type": "stream",
          "name": "stdout",
          "text": [
            "============================================================\n",
            "SVC\n",
            "Scores: [1. 1. 1. 1. 1. 1. 1. 1. 1. 1.]\n",
            "Mean Score: 1.0\n",
            "============================================================\n",
            "Gaussian NB\n",
            "Scores: [1. 1. 1. 1. 1. 1. 1. 1. 1. 1.]\n",
            "Mean Score: 1.0\n",
            "============================================================\n",
            "Random Forest\n",
            "Scores: [1. 1. 1. 1. 1. 1. 1. 1. 1. 1.]\n",
            "Mean Score: 1.0\n"
          ]
        }
      ]
    },
    {
      "cell_type": "markdown",
      "source": [
        "sklearn.model_selection.cross_val_score(estimator, X, y=None, *, groups=None, scoring=None, cv=None, n_jobs=None, verbose=0, fit_params=None, params=None, pre_dispatch='2*n_jobs', error_score=nan)\n",
        "Evaluate a score by cross-validation.\n",
        "[ref: https://scikit-learn.org/stable/modules/generated/sklearn.model_selection.cross_val_score.html ]."
      ],
      "metadata": {
        "id": "xTYa2wpT5-rf"
      }
    },
    {
      "cell_type": "markdown",
      "source": [
        "To build a more robust model, we can combine the predictions of all three models. We can take the mode (most frequently occuring value) of the models' predicted class."
      ],
      "metadata": {
        "id": "-1VrZ_8n70_T"
      }
    },
    {
      "cell_type": "markdown",
      "source": [
        "Since there are 3-qty. total models here in this use-case; we can think of the \"mode\" as 2 out of 3 voting; as 2 would be the \"mode (most frequently occuring value)\"."
      ],
      "metadata": {
        "id": "gw6y_9AH8azD"
      }
    },
    {
      "cell_type": "markdown",
      "source": [
        "3-qty-models < 41-qty_of_target_classes."
      ],
      "metadata": {
        "id": "7BsPHqjK8sek"
      }
    },
    {
      "cell_type": "markdown",
      "source": [
        "## SVM"
      ],
      "metadata": {
        "id": "touhI0CE-l2R"
      }
    },
    {
      "cell_type": "markdown",
      "source": [
        "SVM = Support Vector Machines Classifier"
      ],
      "metadata": {
        "id": "7Fi84xBZ_a7g"
      }
    },
    {
      "cell_type": "code",
      "source": [
        "# Training and testing SVM Classifier\n",
        "svm_model = SVC()\n",
        "svm_model.fit(X_train, y_train)\n",
        "y_pred = svm_model.predict(X_test)"
      ],
      "metadata": {
        "id": "frO14p4a41xa"
      },
      "execution_count": null,
      "outputs": []
    },
    {
      "cell_type": "code",
      "source": [
        "# use boolean mask\n",
        "df_bool = (y_pred == 0)\n",
        "print(df_bool.sum().sum())\n",
        "# alternative, filter array, then get length\n",
        "# print(len(y_pred[y_pred == 0]))\n",
        "# using len because sum of zeroes is zero"
      ],
      "metadata": {
        "colab": {
          "base_uri": "https://localhost:8080/"
        },
        "id": "FpnGdBz08dm_",
        "outputId": "89d056eb-3bec-4699-f6a5-95f49e8a0c69"
      },
      "execution_count": null,
      "outputs": [
        {
          "output_type": "stream",
          "name": "stdout",
          "text": [
            "32\n"
          ]
        }
      ]
    },
    {
      "cell_type": "code",
      "source": [
        "# use boolean mask\n",
        "df_bool = (y_test == 0)\n",
        "# compare with known labels\n",
        "print(df_bool.value_counts())\n",
        "print(df_bool.sum())\n",
        "\n",
        "# alternative, filter array, then get length\n",
        "# print(len(y_test[y_test == 0]))"
      ],
      "metadata": {
        "colab": {
          "base_uri": "https://localhost:8080/"
        },
        "id": "Kz8N8nXA86nK",
        "outputId": "ecded4cb-dc8f-492d-e54a-402a288796f2"
      },
      "execution_count": null,
      "outputs": [
        {
          "output_type": "stream",
          "name": "stdout",
          "text": [
            "prognosis\n",
            "False    952\n",
            "True      32\n",
            "Name: count, dtype: int64\n",
            "32\n"
          ]
        }
      ]
    },
    {
      "cell_type": "code",
      "source": [
        "print(\"Accuracy on training data by SVM Classifier = \",\n",
        "      accuracy_score(y_train, svm_model.predict(X_train))*100)\n",
        "print(\"Accuracy on test data by SVM Classifier = \",\n",
        "      accuracy_score(y_test, y_pred)*100)\n"
      ],
      "metadata": {
        "colab": {
          "base_uri": "https://localhost:8080/"
        },
        "id": "YiCZMjGA_ixg",
        "outputId": "b8751c38-9c64-46e1-8a84-8cbb39e3c765"
      },
      "execution_count": null,
      "outputs": [
        {
          "output_type": "stream",
          "name": "stdout",
          "text": [
            "Accuracy on training data by SVM Classifier =  100.0\n",
            "Accuracy on test data by SVM Classifier =  100.0\n"
          ]
        }
      ]
    },
    {
      "cell_type": "markdown",
      "source": [
        "sklearn.metrics.classification_report\n",
        "\n",
        "[ref: https://scikit-learn.org/stable/modules/generated/sklearn.metrics.classification_report.html#sklearn.metrics.classification_report]"
      ],
      "metadata": {
        "id": "56aenGxDMg8Y"
      }
    },
    {
      "cell_type": "code",
      "source": [
        "target_class_names = ['class '+ str(i) for i in range(0,41)]\n",
        "# print(target_names)"
      ],
      "metadata": {
        "id": "n6RlWpNjJCwD",
        "collapsed": true
      },
      "execution_count": null,
      "outputs": []
    },
    {
      "cell_type": "code",
      "source": [
        "print(\"Classification Report on training data by SVM Classifier = \\n\",\n",
        "      classification_report(y_true = y_test,\n",
        "                            y_pred = y_pred,\n",
        "                            target_names= target_class_names))"
      ],
      "metadata": {
        "collapsed": true,
        "colab": {
          "base_uri": "https://localhost:8080/"
        },
        "id": "Xxq42gEuPtcV",
        "outputId": "c4ce58b2-e514-4bbf-e004-17ebb1bc4d45"
      },
      "execution_count": null,
      "outputs": [
        {
          "output_type": "stream",
          "name": "stdout",
          "text": [
            "Classification Report on training data by SVM Classifier = \n",
            "               precision    recall  f1-score   support\n",
            "\n",
            "     class 0       1.00      1.00      1.00        32\n",
            "     class 1       1.00      1.00      1.00        21\n",
            "     class 2       1.00      1.00      1.00        20\n",
            "     class 3       1.00      1.00      1.00        23\n",
            "     class 4       1.00      1.00      1.00        24\n",
            "     class 5       1.00      1.00      1.00        29\n",
            "     class 6       1.00      1.00      1.00        32\n",
            "     class 7       1.00      1.00      1.00        24\n",
            "     class 8       1.00      1.00      1.00        29\n",
            "     class 9       1.00      1.00      1.00        24\n",
            "    class 10       1.00      1.00      1.00        25\n",
            "    class 11       1.00      1.00      1.00        17\n",
            "    class 12       1.00      1.00      1.00        21\n",
            "    class 13       1.00      1.00      1.00        27\n",
            "    class 14       1.00      1.00      1.00        20\n",
            "    class 15       1.00      1.00      1.00        25\n",
            "    class 16       1.00      1.00      1.00        23\n",
            "    class 17       1.00      1.00      1.00        22\n",
            "    class 18       1.00      1.00      1.00        22\n",
            "    class 19       1.00      1.00      1.00        28\n",
            "    class 20       1.00      1.00      1.00        29\n",
            "    class 21       1.00      1.00      1.00        28\n",
            "    class 22       1.00      1.00      1.00        26\n",
            "    class 23       1.00      1.00      1.00        23\n",
            "    class 24       1.00      1.00      1.00        20\n",
            "    class 25       1.00      1.00      1.00        21\n",
            "    class 26       1.00      1.00      1.00        31\n",
            "    class 27       1.00      1.00      1.00        24\n",
            "    class 28       1.00      1.00      1.00        21\n",
            "    class 29       1.00      1.00      1.00        20\n",
            "    class 30       1.00      1.00      1.00        25\n",
            "    class 31       1.00      1.00      1.00        25\n",
            "    class 32       1.00      1.00      1.00        25\n",
            "    class 33       1.00      1.00      1.00        28\n",
            "    class 34       1.00      1.00      1.00        25\n",
            "    class 35       1.00      1.00      1.00        16\n",
            "    class 36       1.00      1.00      1.00        19\n",
            "    class 37       1.00      1.00      1.00        24\n",
            "    class 38       1.00      1.00      1.00        26\n",
            "    class 39       1.00      1.00      1.00        18\n",
            "    class 40       1.00      1.00      1.00        22\n",
            "\n",
            "    accuracy                           1.00       984\n",
            "   macro avg       1.00      1.00      1.00       984\n",
            "weighted avg       1.00      1.00      1.00       984\n",
            "\n"
          ]
        }
      ]
    },
    {
      "cell_type": "code",
      "source": [
        "cf_matrix = confusion_matrix(y_true= y_test,\n",
        "                             y_pred= y_pred)\n",
        "# y_true - Ground truth (correct) target values.\n",
        "# y_pred - Estimated targets as returned by a classifier.\n",
        "# [ref: https://scikit-learn.org/stable/modules/generated/sklearn.metrics.confusion_matrix.html]"
      ],
      "metadata": {
        "id": "AWc4FEE8S6IW"
      },
      "execution_count": null,
      "outputs": []
    },
    {
      "cell_type": "code",
      "source": [
        "# print(\"cf_matrix= \\n\", cf_matrix)\n",
        "# print(\"\\ncf_matrix.shape=\", cf_matrix.shape)"
      ],
      "metadata": {
        "id": "UfwFTliLTWLt",
        "collapsed": true
      },
      "execution_count": null,
      "outputs": []
    },
    {
      "cell_type": "markdown",
      "source": [
        "For multi-class use-case; the confusion matrix is a (n x n) table, where n is the qty. of classes."
      ],
      "metadata": {
        "id": "olD2rhSzT0kt"
      }
    },
    {
      "cell_type": "markdown",
      "source": [
        "Diagonal elements of the confusion matrix represent correct predictions.\n",
        "- Correct predictions means (y_pred) same class as (y_true).\n"
      ],
      "metadata": {
        "id": "Jfvt_ez1Ueq0"
      }
    },
    {
      "cell_type": "markdown",
      "source": [
        "Off-diagonal elements of the confusion matrix represent not-correct predictions.\n",
        "- Not-correct predictions means (y_pred) is NOT the same class as (y_true).\n",
        "- We can think of these as combination of False Positives (FP) and False Negatives (FN) in the binary (2-class, not-multi-class) use-case, but for each combination of classes"
      ],
      "metadata": {
        "id": "0zTImSpGVm17"
      }
    },
    {
      "cell_type": "markdown",
      "source": [
        "Thus, in case of multi-class confusion matrix,\n",
        "- qty. or total of correct predictions is the sum of all diagonal elements.\n",
        "- qty. or total of not-correct predictions is the sum of all off-diagonal elements."
      ],
      "metadata": {
        "id": "aojaAIjAZVU3"
      }
    },
    {
      "cell_type": "markdown",
      "source": [
        "In current use-case; the confusion matrix is a (41 x 41)."
      ],
      "metadata": {
        "id": "q-JkDWmwT_6u"
      }
    },
    {
      "cell_type": "code",
      "source": [
        "plt.figure(figsize=(12,8))\n",
        "\n",
        "ax = sns.heatmap(data= cf_matrix,\n",
        "          # rectangular dataset;2D dataset that can be coerced into an ndarray.\n",
        "            annot= True,\n",
        "          # If True, write the data value in each cell.\n",
        "            linewidth=.5\n",
        "          # Add lines between cells\n",
        "            )\n",
        "\n",
        "# ax.xaxis.tick_top()\n",
        "ax.tick_params(top=True,\n",
        "               labeltop=True,\n",
        "               bottom=False,\n",
        "               labelbottom=False)\n",
        "ax.set(xlabel=\"Predicted by model\",\n",
        "       ylabel=\"Ground Truth or known labels\")\n",
        "# Ground Truth on y-axis\n",
        "# Predictions on x-axis\n",
        "# [ref: https://scikit-learn.org/stable/modules/model_evaluation.html#confusion-matrix]\n",
        "plt.title(\"Confusion Matrix for SVM Classifier on Test Data\")\n",
        "plt.show()"
      ],
      "metadata": {
        "colab": {
          "base_uri": "https://localhost:8080/",
          "height": 718
        },
        "id": "gVOoDylG_8mX",
        "outputId": "01320c10-3f11-4210-9001-baf3da6a81d8",
        "collapsed": true
      },
      "execution_count": null,
      "outputs": [
        {
          "output_type": "display_data",
          "data": {
            "text/plain": [
              "<Figure size 1200x800 with 2 Axes>"
            ],
            "image/png": "[encoded data removed]"
          },
          "metadata": {}
        }
      ]
    },
    {
      "cell_type": "markdown",
      "source": [
        "Compute confusion matrix to evaluate the accuracy of a classification.\n",
        "By definition a confusion matrix C is such that C(i,j)\n",
        "is equal to the number of observations known to be in group \"i\" and predicted to be in group \"j\".\n",
        "[ref: https://scikit-learn.org/stable/modules/generated/sklearn.metrics.confusion_matrix.html ]"
      ],
      "metadata": {
        "id": "CzscDWxYAQOn"
      }
    },
    {
      "cell_type": "markdown",
      "source": [
        "# Naive Bayes Classifier"
      ],
      "metadata": {
        "id": "0Wn2OXj-AR2_"
      }
    },
    {
      "cell_type": "code",
      "source": [
        "# Training and testing Naive Bayes Classifier\n",
        "nb_model = GaussianNB()\n",
        "nb_model.fit(X_train, y_train)"
      ],
      "metadata": {
        "colab": {
          "base_uri": "https://localhost:8080/",
          "height": 75
        },
        "id": "ILgY_w8rPDrF",
        "outputId": "1413a684-f91f-4ee6-ccf8-5d7c080b5a2b"
      },
      "execution_count": null,
      "outputs": [
        {
          "output_type": "execute_result",
          "data": {
            "text/plain": [
              "GaussianNB()"
            ],
            "text/html": [
              "<style>#sk-container-id-1 {color: black;}#sk-container-id-1 pre{padding: 0;}#sk-container-id-1 div.sk-toggleable {background-color: white;}#sk-container-id-1 label.sk-toggleable__label {cursor: pointer;display: block;width: 100%;margin-bottom: 0;padding: 0.3em;box-sizing: border-box;text-align: center;}#sk-container-id-1 label.sk-toggleable__label-arrow:before {content: \"▸\";float: left;margin-right: 0.25em;color: #696969;}#sk-container-id-1 label.sk-toggleable__label-arrow:hover:before {color: black;}#sk-container-id-1 div.sk-estimator:hover label.sk-toggleable__label-arrow:before {color: black;}#sk-container-id-1 div.sk-toggleable__content {max-height: 0;max-width: 0;overflow: hidden;text-align: left;background-color: #f0f8ff;}#sk-container-id-1 div.sk-toggleable__content pre {margin: 0.2em;color: black;border-radius: 0.25em;background-color: #f0f8ff;}#sk-container-id-1 input.sk-toggleable__control:checked~div.sk-toggleable__content {max-height: 200px;max-width: 100%;overflow: auto;}#sk-container-id-1 input.sk-toggleable__control:checked~label.sk-toggleable__label-arrow:before {content: \"▾\";}#sk-container-id-1 div.sk-estimator input.sk-toggleable__control:checked~label.sk-toggleable__label {background-color: #d4ebff;}#sk-container-id-1 div.sk-label input.sk-toggleable__control:checked~label.sk-toggleable__label {background-color: #d4ebff;}#sk-container-id-1 input.sk-hidden--visually {border: 0;clip: rect(1px 1px 1px 1px);clip: rect(1px, 1px, 1px, 1px);height: 1px;margin: -1px;overflow: hidden;padding: 0;position: absolute;width: 1px;}#sk-container-id-1 div.sk-estimator {font-family: monospace;background-color: #f0f8ff;border: 1px dotted black;border-radius: 0.25em;box-sizing: border-box;margin-bottom: 0.5em;}#sk-container-id-1 div.sk-estimator:hover {background-color: #d4ebff;}#sk-container-id-1 div.sk-parallel-item::after {content: \"\";width: 100%;border-bottom: 1px solid gray;flex-grow: 1;}#sk-container-id-1 div.sk-label:hover label.sk-toggleable__label {background-color: #d4ebff;}#sk-container-id-1 div.sk-serial::before {content: \"\";position: absolute;border-left: 1px solid gray;box-sizing: border-box;top: 0;bottom: 0;left: 50%;z-index: 0;}#sk-container-id-1 div.sk-serial {display: flex;flex-direction: column;align-items: center;background-color: white;padding-right: 0.2em;padding-left: 0.2em;position: relative;}#sk-container-id-1 div.sk-item {position: relative;z-index: 1;}#sk-container-id-1 div.sk-parallel {display: flex;align-items: stretch;justify-content: center;background-color: white;position: relative;}#sk-container-id-1 div.sk-item::before, #sk-container-id-1 div.sk-parallel-item::before {content: \"\";position: absolute;border-left: 1px solid gray;box-sizing: border-box;top: 0;bottom: 0;left: 50%;z-index: -1;}#sk-container-id-1 div.sk-parallel-item {display: flex;flex-direction: column;z-index: 1;position: relative;background-color: white;}#sk-container-id-1 div.sk-parallel-item:first-child::after {align-self: flex-end;width: 50%;}#sk-container-id-1 div.sk-parallel-item:last-child::after {align-self: flex-start;width: 50%;}#sk-container-id-1 div.sk-parallel-item:only-child::after {width: 0;}#sk-container-id-1 div.sk-dashed-wrapped {border: 1px dashed gray;margin: 0 0.4em 0.5em 0.4em;box-sizing: border-box;padding-bottom: 0.4em;background-color: white;}#sk-container-id-1 div.sk-label label {font-family: monospace;font-weight: bold;display: inline-block;line-height: 1.2em;}#sk-container-id-1 div.sk-label-container {text-align: center;}#sk-container-id-1 div.sk-container {/* jupyter's `normalize.less` sets `[hidden] { display: none; }` but bootstrap.min.css set `[hidden] { display: none !important; }` so we also need the `!important` here to be able to override the default hidden behavior on the sphinx rendered scikit-learn.org. See: https://github.com/scikit-learn/scikit-learn/issues/21755 */display: inline-block !important;position: relative;}#sk-container-id-1 div.sk-text-repr-fallback {display: none;}</style><div id=\"sk-container-id-1\" class=\"sk-top-container\"><div class=\"sk-text-repr-fallback\"><pre>GaussianNB()</pre><b>In a Jupyter environment, please rerun this cell to show the HTML representation or trust the notebook. <br />On GitHub, the HTML representation is unable to render, please try loading this page with nbviewer.org.</b></div><div class=\"sk-container\" hidden><div class=\"sk-item\"><div class=\"sk-estimator sk-toggleable\"><input class=\"sk-toggleable__control sk-hidden--visually\" id=\"sk-estimator-id-1\" type=\"checkbox\" checked><label for=\"sk-estimator-id-1\" class=\"sk-toggleable__label sk-toggleable__label-arrow\">GaussianNB</label><div class=\"sk-toggleable__content\"><pre>GaussianNB()</pre></div></div></div></div></div>"
            ]
          },
          "metadata": {},
          "execution_count": 37
        }
      ]
    },
    {
      "cell_type": "code",
      "source": [
        "y_pred = nb_model.predict(X_test)\n",
        "\n",
        "print(\"Accuracy on training data by Naive Bayes Classifier = \",\n",
        "      accuracy_score(y_train, nb_model.predict(X_train))*100)\n",
        "\n",
        "print(\"Accuracy on test data by Naive Bayes Classifier = \",\n",
        "      accuracy_score(y_test, y_pred)*100)"
      ],
      "metadata": {
        "colab": {
          "base_uri": "https://localhost:8080/"
        },
        "id": "zen8z9ttPLZc",
        "outputId": "c58772f8-086b-405e-c0ae-34c7e65708be"
      },
      "execution_count": null,
      "outputs": [
        {
          "output_type": "stream",
          "name": "stdout",
          "text": [
            "Accuracy on training data by Naive Bayes Classifier =  100.0\n",
            "Accuracy on test data by Naive Bayes Classifier =  100.0\n"
          ]
        }
      ]
    },
    {
      "cell_type": "code",
      "source": [
        "target_class_names = ['class '+ str(i) for i in range(0,41)]\n",
        "# print(target_names)"
      ],
      "metadata": {
        "id": "5vPNix0EP4O0"
      },
      "execution_count": null,
      "outputs": []
    },
    {
      "cell_type": "code",
      "source": [
        "print(\"Classification Report on training data by Naive Bayes Classifier = \\n\",\n",
        "      classification_report(y_true = y_test,\n",
        "                            y_pred = y_pred,\n",
        "                            target_names= target_class_names))"
      ],
      "metadata": {
        "colab": {
          "base_uri": "https://localhost:8080/"
        },
        "collapsed": true,
        "id": "36VbtvnLP48s",
        "outputId": "6b2a98da-5670-4d60-df55-a10072260077"
      },
      "execution_count": null,
      "outputs": [
        {
          "output_type": "stream",
          "name": "stdout",
          "text": [
            "Classification Report on training data by Naive Bayes Classifier = \n",
            "               precision    recall  f1-score   support\n",
            "\n",
            "     class 0       1.00      1.00      1.00        32\n",
            "     class 1       1.00      1.00      1.00        21\n",
            "     class 2       1.00      1.00      1.00        20\n",
            "     class 3       1.00      1.00      1.00        23\n",
            "     class 4       1.00      1.00      1.00        24\n",
            "     class 5       1.00      1.00      1.00        29\n",
            "     class 6       1.00      1.00      1.00        32\n",
            "     class 7       1.00      1.00      1.00        24\n",
            "     class 8       1.00      1.00      1.00        29\n",
            "     class 9       1.00      1.00      1.00        24\n",
            "    class 10       1.00      1.00      1.00        25\n",
            "    class 11       1.00      1.00      1.00        17\n",
            "    class 12       1.00      1.00      1.00        21\n",
            "    class 13       1.00      1.00      1.00        27\n",
            "    class 14       1.00      1.00      1.00        20\n",
            "    class 15       1.00      1.00      1.00        25\n",
            "    class 16       1.00      1.00      1.00        23\n",
            "    class 17       1.00      1.00      1.00        22\n",
            "    class 18       1.00      1.00      1.00        22\n",
            "    class 19       1.00      1.00      1.00        28\n",
            "    class 20       1.00      1.00      1.00        29\n",
            "    class 21       1.00      1.00      1.00        28\n",
            "    class 22       1.00      1.00      1.00        26\n",
            "    class 23       1.00      1.00      1.00        23\n",
            "    class 24       1.00      1.00      1.00        20\n",
            "    class 25       1.00      1.00      1.00        21\n",
            "    class 26       1.00      1.00      1.00        31\n",
            "    class 27       1.00      1.00      1.00        24\n",
            "    class 28       1.00      1.00      1.00        21\n",
            "    class 29       1.00      1.00      1.00        20\n",
            "    class 30       1.00      1.00      1.00        25\n",
            "    class 31       1.00      1.00      1.00        25\n",
            "    class 32       1.00      1.00      1.00        25\n",
            "    class 33       1.00      1.00      1.00        28\n",
            "    class 34       1.00      1.00      1.00        25\n",
            "    class 35       1.00      1.00      1.00        16\n",
            "    class 36       1.00      1.00      1.00        19\n",
            "    class 37       1.00      1.00      1.00        24\n",
            "    class 38       1.00      1.00      1.00        26\n",
            "    class 39       1.00      1.00      1.00        18\n",
            "    class 40       1.00      1.00      1.00        22\n",
            "\n",
            "    accuracy                           1.00       984\n",
            "   macro avg       1.00      1.00      1.00       984\n",
            "weighted avg       1.00      1.00      1.00       984\n",
            "\n"
          ]
        }
      ]
    },
    {
      "cell_type": "code",
      "source": [
        "cf_matrix = confusion_matrix(y_true= y_test,\n",
        "                             y_pred= y_pred)\n",
        "# y_true - Ground truth (correct) target values.\n",
        "# y_pred - Estimated targets as returned by a classifier.\n",
        "# [ref: https://scikit-learn.org/stable/modules/generated/sklearn.metrics.confusion_matrix.html]"
      ],
      "metadata": {
        "id": "VPXQJEpwQCyT"
      },
      "execution_count": null,
      "outputs": []
    },
    {
      "cell_type": "code",
      "source": [
        "plt.figure(figsize=(12,8))\n",
        "\n",
        "ax = sns.heatmap(data= cf_matrix,\n",
        "          # rectangular dataset;2D dataset that can be coerced into an ndarray.\n",
        "            annot= True,\n",
        "          # If True, write the data value in each cell.\n",
        "            linewidth=.5\n",
        "          # Add lines between cells\n",
        "            )\n",
        "\n",
        "# ax.xaxis.tick_top()\n",
        "ax.tick_params(top=True,\n",
        "               labeltop=True,\n",
        "               bottom=False,\n",
        "               labelbottom=False)\n",
        "ax.set(xlabel=\"Predicted by model\",\n",
        "       ylabel=\"Ground Truth or known labels\")\n",
        "# Ground Truth on y-axis\n",
        "# Predictions on x-axis\n",
        "# [ref: https://scikit-learn.org/stable/modules/model_evaluation.html#confusion-matrix]\n",
        "plt.title(\"Confusion Matrix for Naive Bayes Classifier on Test Data\")\n",
        "plt.show()"
      ],
      "metadata": {
        "colab": {
          "base_uri": "https://localhost:8080/",
          "height": 718
        },
        "collapsed": true,
        "id": "hPEDSxYVQG-M",
        "outputId": "79960a70-5d58-4a02-d35f-0e53bfb579ce"
      },
      "execution_count": null,
      "outputs": [
        {
          "output_type": "display_data",
          "data": {
            "text/plain": [
              "<Figure size 1200x800 with 2 Axes>"
            ],
            "image/png": "[encoded data removed]"
          },
          "metadata": {}
        }
      ]
    },
    {
      "cell_type": "markdown",
      "source": [
        "# Random Forest"
      ],
      "metadata": {
        "id": "VQ7RD7IIQWR7"
      }
    },
    {
      "cell_type": "code",
      "source": [
        "# Training and testing Random Forest Classifier\n",
        "rf_model = RandomForestClassifier(random_state=18)\n",
        "# fit model to training data\n",
        "rf_model.fit(X_train, y_train)\n",
        "# make predictions\n",
        "y_pred = rf_model.predict(X_test)"
      ],
      "metadata": {
        "id": "-D1GMAn5QT0s"
      },
      "execution_count": null,
      "outputs": []
    },
    {
      "cell_type": "code",
      "source": [
        "print(\"Accuracy on training data by Random Forest Classifier = \",\n",
        "      accuracy_score(y_train, nb_model.predict(X_train))*100)\n",
        "\n",
        "print(\"Accuracy on test data by Random Forest Classifier = \",\n",
        "      accuracy_score(y_test, y_pred)*100)"
      ],
      "metadata": {
        "colab": {
          "base_uri": "https://localhost:8080/"
        },
        "id": "OZGg2bCQQmxb",
        "outputId": "6b417f5f-b566-48b0-9852-8ca26363951f"
      },
      "execution_count": null,
      "outputs": [
        {
          "output_type": "stream",
          "name": "stdout",
          "text": [
            "Accuracy on training data by Random Forest Classifier =  100.0\n",
            "Accuracy on test data by Random Forest Classifier =  100.0\n"
          ]
        }
      ]
    },
    {
      "cell_type": "code",
      "source": [
        "target_class_names = ['class '+ str(i) for i in range(0,41)]\n",
        "# print(target_names)"
      ],
      "metadata": {
        "id": "7WeCGTxqQwnE"
      },
      "execution_count": null,
      "outputs": []
    },
    {
      "cell_type": "code",
      "source": [
        "print(\"Classification Report on training data by Random Forest Classifier = \\n\",\n",
        "      classification_report(y_true = y_test,\n",
        "                            y_pred = y_pred,\n",
        "                            target_names= target_class_names))"
      ],
      "metadata": {
        "colab": {
          "base_uri": "https://localhost:8080/"
        },
        "collapsed": true,
        "id": "O7IuxvM_Q1AE",
        "outputId": "569e50f1-ac35-4401-cf35-d4a1e1ff09d1"
      },
      "execution_count": null,
      "outputs": [
        {
          "output_type": "stream",
          "name": "stdout",
          "text": [
            "Classification Report on training data by Random Forest Classifier = \n",
            "               precision    recall  f1-score   support\n",
            "\n",
            "     class 0       1.00      1.00      1.00        32\n",
            "     class 1       1.00      1.00      1.00        21\n",
            "     class 2       1.00      1.00      1.00        20\n",
            "     class 3       1.00      1.00      1.00        23\n",
            "     class 4       1.00      1.00      1.00        24\n",
            "     class 5       1.00      1.00      1.00        29\n",
            "     class 6       1.00      1.00      1.00        32\n",
            "     class 7       1.00      1.00      1.00        24\n",
            "     class 8       1.00      1.00      1.00        29\n",
            "     class 9       1.00      1.00      1.00        24\n",
            "    class 10       1.00      1.00      1.00        25\n",
            "    class 11       1.00      1.00      1.00        17\n",
            "    class 12       1.00      1.00      1.00        21\n",
            "    class 13       1.00      1.00      1.00        27\n",
            "    class 14       1.00      1.00      1.00        20\n",
            "    class 15       1.00      1.00      1.00        25\n",
            "    class 16       1.00      1.00      1.00        23\n",
            "    class 17       1.00      1.00      1.00        22\n",
            "    class 18       1.00      1.00      1.00        22\n",
            "    class 19       1.00      1.00      1.00        28\n",
            "    class 20       1.00      1.00      1.00        29\n",
            "    class 21       1.00      1.00      1.00        28\n",
            "    class 22       1.00      1.00      1.00        26\n",
            "    class 23       1.00      1.00      1.00        23\n",
            "    class 24       1.00      1.00      1.00        20\n",
            "    class 25       1.00      1.00      1.00        21\n",
            "    class 26       1.00      1.00      1.00        31\n",
            "    class 27       1.00      1.00      1.00        24\n",
            "    class 28       1.00      1.00      1.00        21\n",
            "    class 29       1.00      1.00      1.00        20\n",
            "    class 30       1.00      1.00      1.00        25\n",
            "    class 31       1.00      1.00      1.00        25\n",
            "    class 32       1.00      1.00      1.00        25\n",
            "    class 33       1.00      1.00      1.00        28\n",
            "    class 34       1.00      1.00      1.00        25\n",
            "    class 35       1.00      1.00      1.00        16\n",
            "    class 36       1.00      1.00      1.00        19\n",
            "    class 37       1.00      1.00      1.00        24\n",
            "    class 38       1.00      1.00      1.00        26\n",
            "    class 39       1.00      1.00      1.00        18\n",
            "    class 40       1.00      1.00      1.00        22\n",
            "\n",
            "    accuracy                           1.00       984\n",
            "   macro avg       1.00      1.00      1.00       984\n",
            "weighted avg       1.00      1.00      1.00       984\n",
            "\n"
          ]
        }
      ]
    },
    {
      "cell_type": "code",
      "source": [
        "cf_matrix = confusion_matrix(y_true= y_test,\n",
        "                             y_pred= y_pred)\n",
        "# y_true - Ground truth (correct) target values.\n",
        "# y_pred - Estimated targets as returned by a classifier.\n",
        "# [ref: https://scikit-learn.org/stable/modules/generated/sklearn.metrics.confusion_matrix.html]"
      ],
      "metadata": {
        "id": "z10kUd18Q7wT"
      },
      "execution_count": null,
      "outputs": []
    },
    {
      "cell_type": "code",
      "source": [
        "plt.figure(figsize=(12,8))\n",
        "\n",
        "ax = sns.heatmap(data= cf_matrix,\n",
        "          # rectangular dataset;2D dataset that can be coerced into an ndarray.\n",
        "            annot= True,\n",
        "          # If True, write the data value in each cell.\n",
        "            linewidth=.5\n",
        "          # Add lines between cells\n",
        "            )\n",
        "\n",
        "# ax.xaxis.tick_top()\n",
        "ax.tick_params(top=True,\n",
        "               labeltop=True,\n",
        "               bottom=False,\n",
        "               labelbottom=False)\n",
        "ax.set(xlabel=\"Predicted by model\",\n",
        "       ylabel=\"Ground Truth or known labels\")\n",
        "# Ground Truth on y-axis\n",
        "# Predictions on x-axis\n",
        "# [ref: https://scikit-learn.org/stable/modules/model_evaluation.html#confusion-matrix]\n",
        "plt.title(\"Confusion Matrix for Random Forest Classifier on Test Data\")\n",
        "plt.show()"
      ],
      "metadata": {
        "colab": {
          "base_uri": "https://localhost:8080/",
          "height": 718
        },
        "collapsed": true,
        "id": "UrGrWEWhQ-DD",
        "outputId": "fa2894ca-a4d8-484a-897d-81ec0e6c6cc0"
      },
      "execution_count": null,
      "outputs": [
        {
          "output_type": "display_data",
          "data": {
            "text/plain": [
              "<Figure size 1200x800 with 2 Axes>"
            ],
            "image/png": "[encoded data removed]"
          },
          "metadata": {}
        }
      ]
    },
    {
      "cell_type": "markdown",
      "source": [
        "Based on observing confusion matrix heatmap, classification reports, accuracy score; for all 3 models SVM, NB, RF; we can reasonbl claim models are performing well with the test split from source data i.e. test data."
      ],
      "metadata": {
        "id": "u2QMqVaORI-L"
      }
    },
    {
      "cell_type": "markdown",
      "source": [
        "# Re-train models using all available data"
      ],
      "metadata": {
        "id": "e4I8kkVURxO8"
      }
    },
    {
      "cell_type": "code",
      "source": [
        "# Training the models using all available data;\n",
        "#  that is not splitting into train-test subsets of data\n",
        "# instantiate models\n",
        "final_svm_model = SVC()\n",
        "final_nb_model = GaussianNB()\n",
        "final_rf_model = RandomForestClassifier(random_state=18)\n",
        "# fit/train the model using all available data\n",
        "final_svm_model.fit(X, y)\n",
        "final_nb_model.fit(X, y)\n",
        "final_rf_model.fit(X, y)"
      ],
      "metadata": {
        "colab": {
          "base_uri": "https://localhost:8080/",
          "height": 75
        },
        "collapsed": true,
        "id": "YccxKR1YRwNT",
        "outputId": "ea8b7363-b37c-465d-842a-d5f459e7ec88"
      },
      "execution_count": null,
      "outputs": [
        {
          "output_type": "execute_result",
          "data": {
            "text/plain": [
              "RandomForestClassifier(random_state=18)"
            ],
            "text/html": [
              "<style>#sk-container-id-2 {color: black;}#sk-container-id-2 pre{padding: 0;}#sk-container-id-2 div.sk-toggleable {background-color: white;}#sk-container-id-2 label.sk-toggleable__label {cursor: pointer;display: block;width: 100%;margin-bottom: 0;padding: 0.3em;box-sizing: border-box;text-align: center;}#sk-container-id-2 label.sk-toggleable__label-arrow:before {content: \"▸\";float: left;margin-right: 0.25em;color: #696969;}#sk-container-id-2 label.sk-toggleable__label-arrow:hover:before {color: black;}#sk-container-id-2 div.sk-estimator:hover label.sk-toggleable__label-arrow:before {color: black;}#sk-container-id-2 div.sk-toggleable__content {max-height: 0;max-width: 0;overflow: hidden;text-align: left;background-color: #f0f8ff;}#sk-container-id-2 div.sk-toggleable__content pre {margin: 0.2em;color: black;border-radius: 0.25em;background-color: #f0f8ff;}#sk-container-id-2 input.sk-toggleable__control:checked~div.sk-toggleable__content {max-height: 200px;max-width: 100%;overflow: auto;}#sk-container-id-2 input.sk-toggleable__control:checked~label.sk-toggleable__label-arrow:before {content: \"▾\";}#sk-container-id-2 div.sk-estimator input.sk-toggleable__control:checked~label.sk-toggleable__label {background-color: #d4ebff;}#sk-container-id-2 div.sk-label input.sk-toggleable__control:checked~label.sk-toggleable__label {background-color: #d4ebff;}#sk-container-id-2 input.sk-hidden--visually {border: 0;clip: rect(1px 1px 1px 1px);clip: rect(1px, 1px, 1px, 1px);height: 1px;margin: -1px;overflow: hidden;padding: 0;position: absolute;width: 1px;}#sk-container-id-2 div.sk-estimator {font-family: monospace;background-color: #f0f8ff;border: 1px dotted black;border-radius: 0.25em;box-sizing: border-box;margin-bottom: 0.5em;}#sk-container-id-2 div.sk-estimator:hover {background-color: #d4ebff;}#sk-container-id-2 div.sk-parallel-item::after {content: \"\";width: 100%;border-bottom: 1px solid gray;flex-grow: 1;}#sk-container-id-2 div.sk-label:hover label.sk-toggleable__label {background-color: #d4ebff;}#sk-container-id-2 div.sk-serial::before {content: \"\";position: absolute;border-left: 1px solid gray;box-sizing: border-box;top: 0;bottom: 0;left: 50%;z-index: 0;}#sk-container-id-2 div.sk-serial {display: flex;flex-direction: column;align-items: center;background-color: white;padding-right: 0.2em;padding-left: 0.2em;position: relative;}#sk-container-id-2 div.sk-item {position: relative;z-index: 1;}#sk-container-id-2 div.sk-parallel {display: flex;align-items: stretch;justify-content: center;background-color: white;position: relative;}#sk-container-id-2 div.sk-item::before, #sk-container-id-2 div.sk-parallel-item::before {content: \"\";position: absolute;border-left: 1px solid gray;box-sizing: border-box;top: 0;bottom: 0;left: 50%;z-index: -1;}#sk-container-id-2 div.sk-parallel-item {display: flex;flex-direction: column;z-index: 1;position: relative;background-color: white;}#sk-container-id-2 div.sk-parallel-item:first-child::after {align-self: flex-end;width: 50%;}#sk-container-id-2 div.sk-parallel-item:last-child::after {align-self: flex-start;width: 50%;}#sk-container-id-2 div.sk-parallel-item:only-child::after {width: 0;}#sk-container-id-2 div.sk-dashed-wrapped {border: 1px dashed gray;margin: 0 0.4em 0.5em 0.4em;box-sizing: border-box;padding-bottom: 0.4em;background-color: white;}#sk-container-id-2 div.sk-label label {font-family: monospace;font-weight: bold;display: inline-block;line-height: 1.2em;}#sk-container-id-2 div.sk-label-container {text-align: center;}#sk-container-id-2 div.sk-container {/* jupyter's `normalize.less` sets `[hidden] { display: none; }` but bootstrap.min.css set `[hidden] { display: none !important; }` so we also need the `!important` here to be able to override the default hidden behavior on the sphinx rendered scikit-learn.org. See: https://github.com/scikit-learn/scikit-learn/issues/21755 */display: inline-block !important;position: relative;}#sk-container-id-2 div.sk-text-repr-fallback {display: none;}</style><div id=\"sk-container-id-2\" class=\"sk-top-container\"><div class=\"sk-text-repr-fallback\"><pre>RandomForestClassifier(random_state=18)</pre><b>In a Jupyter environment, please rerun this cell to show the HTML representation or trust the notebook. <br />On GitHub, the HTML representation is unable to render, please try loading this page with nbviewer.org.</b></div><div class=\"sk-container\" hidden><div class=\"sk-item\"><div class=\"sk-estimator sk-toggleable\"><input class=\"sk-toggleable__control sk-hidden--visually\" id=\"sk-estimator-id-2\" type=\"checkbox\" checked><label for=\"sk-estimator-id-2\" class=\"sk-toggleable__label sk-toggleable__label-arrow\">RandomForestClassifier</label><div class=\"sk-toggleable__content\"><pre>RandomForestClassifier(random_state=18)</pre></div></div></div></div></div>"
            ]
          },
          "metadata": {},
          "execution_count": 49
        }
      ]
    },
    {
      "cell_type": "code",
      "source": [
        "# Reading the test data\n",
        "test_data = pd.read_csv(test_data_path).dropna(axis=1)\n",
        "# drop columns with NaN values"
      ],
      "metadata": {
        "id": "eo7aGyxNS9jx"
      },
      "execution_count": null,
      "outputs": []
    },
    {
      "cell_type": "markdown",
      "source": [
        ".dropna(axis=1)\n",
        "- axis=1, ‘columns’ : Drop columns which contain missing value.\n",
        "\n",
        "[ref: https://pandas.pydata.org/pandas-docs/stable/reference/api/pandas.DataFrame.dropna.html#pandas-dataframe-dropna]"
      ],
      "metadata": {
        "id": "QSQ977BBTjQ5"
      }
    },
    {
      "cell_type": "code",
      "source": [
        "test_X = test_data.iloc[:, :-1]\n",
        "# first \":\" means get all rows.\n",
        "# second \":-1\" means last col only, negative indexing."
      ],
      "metadata": {
        "id": "3BY7IqqUTupz"
      },
      "execution_count": null,
      "outputs": []
    },
    {
      "cell_type": "code",
      "source": [
        "test_Y = encoder.transform(test_data.iloc[:, -1])\n",
        "# see first few cells for encoder WHY, WHAT"
      ],
      "metadata": {
        "id": "kDtriUrTU2sH"
      },
      "execution_count": null,
      "outputs": []
    },
    {
      "cell_type": "markdown",
      "source": [
        "# Taking mode of predictions  \n",
        "made by all the classifiers\n",
        "- mode (most frequently occuring value)"
      ],
      "metadata": {
        "id": "F5SrvYYzVWzh"
      }
    },
    {
      "cell_type": "code",
      "source": [
        "svm_preds = final_svm_model.predict(test_X)\n",
        "nb_preds = final_nb_model.predict(test_X)\n",
        "rf_preds = final_rf_model.predict(test_X)"
      ],
      "metadata": {
        "id": "2WlCOU5-VT6v"
      },
      "execution_count": null,
      "outputs": []
    },
    {
      "cell_type": "code",
      "source": [
        "# type(svm_preds)"
      ],
      "metadata": {
        "id": "s7ipT6HiV20m"
      },
      "execution_count": null,
      "outputs": []
    },
    {
      "cell_type": "code",
      "source": [
        "list_gen = [(i,j,k) for i,j, k in zip(svm_preds, nb_preds, rf_preds)]\n",
        "print(list_gen[0:3])\n",
        "print(mode(list_gen[0:3])[0][0])"
      ],
      "metadata": {
        "colab": {
          "base_uri": "https://localhost:8080/"
        },
        "id": "NEeo83vAWp7w",
        "outputId": "19b7b862-2008-4a72-e29e-2dc95ecbd034"
      },
      "execution_count": null,
      "outputs": [
        {
          "output_type": "stream",
          "name": "stdout",
          "text": [
            "[(15, 15, 15), (4, 4, 4), (16, 16, 16)]\n",
            "4\n"
          ]
        }
      ]
    },
    {
      "cell_type": "code",
      "source": [
        "final_preds =\\\n",
        " [mode([i,j,k])[0] for i,j, k in zip(svm_preds, nb_preds, rf_preds)]"
      ],
      "metadata": {
        "id": "KIAgGYSHVt1R"
      },
      "execution_count": null,
      "outputs": []
    },
    {
      "cell_type": "code",
      "source": [
        "print(\"Accuracy on unseen general data by combined model = \",\n",
        "      accuracy_score(test_Y, final_preds)*100)"
      ],
      "metadata": {
        "colab": {
          "base_uri": "https://localhost:8080/"
        },
        "id": "sU5fs15AWY8W",
        "outputId": "eeff055f-47fd-45d2-fad0-b7da6b23e8fd"
      },
      "execution_count": null,
      "outputs": [
        {
          "output_type": "stream",
          "name": "stdout",
          "text": [
            "Accuracy on unseen general data by combined model =  100.0\n"
          ]
        }
      ]
    },
    {
      "cell_type": "code",
      "source": [
        "cf_matrix = confusion_matrix(y_true= test_Y,\n",
        "                             y_pred= final_preds)\n",
        "# y_true - Ground truth (correct) target values.\n",
        "# y_pred - Estimated targets as returned by a classifier.\n",
        "# [ref: https://scikit-learn.org/stable/modules/generated/sklearn.metrics.confusion_matrix.html]"
      ],
      "metadata": {
        "id": "r9UqV-x3Yd50"
      },
      "execution_count": null,
      "outputs": []
    },
    {
      "cell_type": "code",
      "source": [
        "plt.figure(figsize=(12,8))\n",
        "\n",
        "ax = sns.heatmap(data= cf_matrix,\n",
        "          # rectangular dataset;2D dataset that can be coerced into an ndarray.\n",
        "            annot= True,\n",
        "          # If True, write the data value in each cell.\n",
        "            linewidth=.5\n",
        "          # Add lines between cells\n",
        "            )\n",
        "\n",
        "# ax.xaxis.tick_top()\n",
        "ax.tick_params(top=True,\n",
        "               labeltop=True,\n",
        "               bottom=False,\n",
        "               labelbottom=False)\n",
        "ax.set(xlabel=\"Predicted by model\",\n",
        "       ylabel=\"Ground Truth or known labels\")\n",
        "# Ground Truth on y-axis\n",
        "# Predictions on x-axis\n",
        "# [ref: https://scikit-learn.org/stable/modules/model_evaluation.html#confusion-matrix]\n",
        "plt.title(\"Confusion Matrix for Combined Model on Unseen Data\")\n",
        "plt.show()"
      ],
      "metadata": {
        "colab": {
          "base_uri": "https://localhost:8080/",
          "height": 718
        },
        "id": "WDrrrn4cY6uV",
        "outputId": "e9e0a0f5-3333-4a6b-905a-131294e6b8da"
      },
      "execution_count": null,
      "outputs": [
        {
          "output_type": "display_data",
          "data": {
            "text/plain": [
              "<Figure size 1200x800 with 2 Axes>"
            ],
            "image/png": "[encoded data removed]"
          },
          "metadata": {}
        }
      ]
    },
    {
      "cell_type": "code",
      "source": [
        "target_class_names = ['class '+ str(i) for i in range(0,41)]\n",
        "# print(target_names)"
      ],
      "metadata": {
        "id": "Bs3DPY_wZO24"
      },
      "execution_count": null,
      "outputs": []
    },
    {
      "cell_type": "code",
      "source": [
        "print(\"Classification Report on unseen data by Combined Model = \\n\",\n",
        "      classification_report(y_true = test_Y,\n",
        "                            y_pred = final_preds,\n",
        "                            target_names= target_class_names))"
      ],
      "metadata": {
        "colab": {
          "base_uri": "https://localhost:8080/"
        },
        "id": "Q8hgMlvPZUcs",
        "outputId": "0c1c3cdb-8849-4c01-d90b-85eadf24e9f3"
      },
      "execution_count": null,
      "outputs": [
        {
          "output_type": "stream",
          "name": "stdout",
          "text": [
            "Classification Report on unseen data by Combined Model = \n",
            "               precision    recall  f1-score   support\n",
            "\n",
            "     class 0       1.00      1.00      1.00         1\n",
            "     class 1       1.00      1.00      1.00         1\n",
            "     class 2       1.00      1.00      1.00         1\n",
            "     class 3       1.00      1.00      1.00         1\n",
            "     class 4       1.00      1.00      1.00         1\n",
            "     class 5       1.00      1.00      1.00         1\n",
            "     class 6       1.00      1.00      1.00         1\n",
            "     class 7       1.00      1.00      1.00         1\n",
            "     class 8       1.00      1.00      1.00         1\n",
            "     class 9       1.00      1.00      1.00         1\n",
            "    class 10       1.00      1.00      1.00         1\n",
            "    class 11       1.00      1.00      1.00         1\n",
            "    class 12       1.00      1.00      1.00         1\n",
            "    class 13       1.00      1.00      1.00         1\n",
            "    class 14       1.00      1.00      1.00         1\n",
            "    class 15       1.00      1.00      1.00         2\n",
            "    class 16       1.00      1.00      1.00         1\n",
            "    class 17       1.00      1.00      1.00         1\n",
            "    class 18       1.00      1.00      1.00         1\n",
            "    class 19       1.00      1.00      1.00         1\n",
            "    class 20       1.00      1.00      1.00         1\n",
            "    class 21       1.00      1.00      1.00         1\n",
            "    class 22       1.00      1.00      1.00         1\n",
            "    class 23       1.00      1.00      1.00         1\n",
            "    class 24       1.00      1.00      1.00         1\n",
            "    class 25       1.00      1.00      1.00         1\n",
            "    class 26       1.00      1.00      1.00         1\n",
            "    class 27       1.00      1.00      1.00         1\n",
            "    class 28       1.00      1.00      1.00         1\n",
            "    class 29       1.00      1.00      1.00         1\n",
            "    class 30       1.00      1.00      1.00         1\n",
            "    class 31       1.00      1.00      1.00         1\n",
            "    class 32       1.00      1.00      1.00         1\n",
            "    class 33       1.00      1.00      1.00         1\n",
            "    class 34       1.00      1.00      1.00         1\n",
            "    class 35       1.00      1.00      1.00         1\n",
            "    class 36       1.00      1.00      1.00         1\n",
            "    class 37       1.00      1.00      1.00         1\n",
            "    class 38       1.00      1.00      1.00         1\n",
            "    class 39       1.00      1.00      1.00         1\n",
            "    class 40       1.00      1.00      1.00         1\n",
            "\n",
            "    accuracy                           1.00        42\n",
            "   macro avg       1.00      1.00      1.00        42\n",
            "weighted avg       1.00      1.00      1.00        42\n",
            "\n"
          ]
        }
      ]
    },
    {
      "cell_type": "markdown",
      "source": [
        "# Generalize the Combined Model\n",
        "Use it to make predictions on user input data\n",
        "User input data i.e. symptoms should be exactly the same among the 132 symptoms in the dataset."
      ],
      "metadata": {
        "id": "ETuS0JWXZxvT"
      }
    },
    {
      "cell_type": "code",
      "source": [
        "symptoms_input = X.columns.values\n",
        "symptoms_input"
      ],
      "metadata": {
        "colab": {
          "base_uri": "https://localhost:8080/"
        },
        "id": "n_DYb4E8adxn",
        "outputId": "f26d3ae9-2686-42a9-b73b-ef5ecd2d15d8"
      },
      "execution_count": null,
      "outputs": [
        {
          "output_type": "execute_result",
          "data": {
            "text/plain": [
              "array(['itching', 'skin_rash', 'nodal_skin_eruptions',\n",
              "       'continuous_sneezing', 'shivering', 'chills', 'joint_pain',\n",
              "       'stomach_pain', 'acidity', 'ulcers_on_tongue', 'muscle_wasting',\n",
              "       'vomiting', 'burning_micturition', 'spotting_ urination',\n",
              "       'fatigue', 'weight_gain', 'anxiety', 'cold_hands_and_feets',\n",
              "       'mood_swings', 'weight_loss', 'restlessness', 'lethargy',\n",
              "       'patches_in_throat', 'irregular_sugar_level', 'cough',\n",
              "       'high_fever', 'sunken_eyes', 'breathlessness', 'sweating',\n",
              "       'dehydration', 'indigestion', 'headache', 'yellowish_skin',\n",
              "       'dark_urine', 'nausea', 'loss_of_appetite', 'pain_behind_the_eyes',\n",
              "       'back_pain', 'constipation', 'abdominal_pain', 'diarrhoea',\n",
              "       'mild_fever', 'yellow_urine', 'yellowing_of_eyes',\n",
              "       'acute_liver_failure', 'fluid_overload', 'swelling_of_stomach',\n",
              "       'swelled_lymph_nodes', 'malaise', 'blurred_and_distorted_vision',\n",
              "       'phlegm', 'throat_irritation', 'redness_of_eyes', 'sinus_pressure',\n",
              "       'runny_nose', 'congestion', 'chest_pain', 'weakness_in_limbs',\n",
              "       'fast_heart_rate', 'pain_during_bowel_movements',\n",
              "       'pain_in_anal_region', 'bloody_stool', 'irritation_in_anus',\n",
              "       'neck_pain', 'dizziness', 'cramps', 'bruising', 'obesity',\n",
              "       'swollen_legs', 'swollen_blood_vessels', 'puffy_face_and_eyes',\n",
              "       'enlarged_thyroid', 'brittle_nails', 'swollen_extremeties',\n",
              "       'excessive_hunger', 'extra_marital_contacts',\n",
              "       'drying_and_tingling_lips', 'slurred_speech', 'knee_pain',\n",
              "       'hip_joint_pain', 'muscle_weakness', 'stiff_neck',\n",
              "       'swelling_joints', 'movement_stiffness', 'spinning_movements',\n",
              "       'loss_of_balance', 'unsteadiness', 'weakness_of_one_body_side',\n",
              "       'loss_of_smell', 'bladder_discomfort', 'foul_smell_of urine',\n",
              "       'continuous_feel_of_urine', 'passage_of_gases', 'internal_itching',\n",
              "       'toxic_look_(typhos)', 'depression', 'irritability', 'muscle_pain',\n",
              "       'altered_sensorium', 'red_spots_over_body', 'belly_pain',\n",
              "       'abnormal_menstruation', 'dischromic _patches',\n",
              "       'watering_from_eyes', 'increased_appetite', 'polyuria',\n",
              "       'family_history', 'mucoid_sputum', 'rusty_sputum',\n",
              "       'lack_of_concentration', 'visual_disturbances',\n",
              "       'receiving_blood_transfusion', 'receiving_unsterile_injections',\n",
              "       'coma', 'stomach_bleeding', 'distention_of_abdomen',\n",
              "       'history_of_alcohol_consumption', 'fluid_overload.1',\n",
              "       'blood_in_sputum', 'prominent_veins_on_calf', 'palpitations',\n",
              "       'painful_walking', 'pus_filled_pimples', 'blackheads', 'scurring',\n",
              "       'skin_peeling', 'silver_like_dusting', 'small_dents_in_nails',\n",
              "       'inflammatory_nails', 'blister', 'red_sore_around_nose',\n",
              "       'yellow_crust_ooze'], dtype=object)"
            ]
          },
          "metadata": {},
          "execution_count": 62
        }
      ]
    },
    {
      "cell_type": "code",
      "source": [
        "# Creating a symptom index dictionary to encode the\n",
        "# input symptoms into numerical form\n",
        "symptom_index_dict = {}\n",
        "for index_global, symptom_name in enumerate(symptoms_input):\n",
        "    # symptom = \" \".join([i for i in symptom_name.split(\"_\")])\n",
        "    symptom_index_dict[symptom_name] = index_global"
      ],
      "metadata": {
        "id": "MPtPWJsIbNLe"
      },
      "execution_count": null,
      "outputs": []
    },
    {
      "cell_type": "code",
      "source": [
        "symptom_index_dict"
      ],
      "metadata": {
        "colab": {
          "base_uri": "https://localhost:8080/"
        },
        "collapsed": true,
        "id": "diFvhE9gbmJW",
        "outputId": "997729e8-44b6-43f3-a8a8-1bd13c14517f"
      },
      "execution_count": null,
      "outputs": [
        {
          "output_type": "execute_result",
          "data": {
            "text/plain": [
              "{'itching': 0,\n",
              " 'skin_rash': 1,\n",
              " 'nodal_skin_eruptions': 2,\n",
              " 'continuous_sneezing': 3,\n",
              " 'shivering': 4,\n",
              " 'chills': 5,\n",
              " 'joint_pain': 6,\n",
              " 'stomach_pain': 7,\n",
              " 'acidity': 8,\n",
              " 'ulcers_on_tongue': 9,\n",
              " 'muscle_wasting': 10,\n",
              " 'vomiting': 11,\n",
              " 'burning_micturition': 12,\n",
              " 'spotting_ urination': 13,\n",
              " 'fatigue': 14,\n",
              " 'weight_gain': 15,\n",
              " 'anxiety': 16,\n",
              " 'cold_hands_and_feets': 17,\n",
              " 'mood_swings': 18,\n",
              " 'weight_loss': 19,\n",
              " 'restlessness': 20,\n",
              " 'lethargy': 21,\n",
              " 'patches_in_throat': 22,\n",
              " 'irregular_sugar_level': 23,\n",
              " 'cough': 24,\n",
              " 'high_fever': 25,\n",
              " 'sunken_eyes': 26,\n",
              " 'breathlessness': 27,\n",
              " 'sweating': 28,\n",
              " 'dehydration': 29,\n",
              " 'indigestion': 30,\n",
              " 'headache': 31,\n",
              " 'yellowish_skin': 32,\n",
              " 'dark_urine': 33,\n",
              " 'nausea': 34,\n",
              " 'loss_of_appetite': 35,\n",
              " 'pain_behind_the_eyes': 36,\n",
              " 'back_pain': 37,\n",
              " 'constipation': 38,\n",
              " 'abdominal_pain': 39,\n",
              " 'diarrhoea': 40,\n",
              " 'mild_fever': 41,\n",
              " 'yellow_urine': 42,\n",
              " 'yellowing_of_eyes': 43,\n",
              " 'acute_liver_failure': 44,\n",
              " 'fluid_overload': 45,\n",
              " 'swelling_of_stomach': 46,\n",
              " 'swelled_lymph_nodes': 47,\n",
              " 'malaise': 48,\n",
              " 'blurred_and_distorted_vision': 49,\n",
              " 'phlegm': 50,\n",
              " 'throat_irritation': 51,\n",
              " 'redness_of_eyes': 52,\n",
              " 'sinus_pressure': 53,\n",
              " 'runny_nose': 54,\n",
              " 'congestion': 55,\n",
              " 'chest_pain': 56,\n",
              " 'weakness_in_limbs': 57,\n",
              " 'fast_heart_rate': 58,\n",
              " 'pain_during_bowel_movements': 59,\n",
              " 'pain_in_anal_region': 60,\n",
              " 'bloody_stool': 61,\n",
              " 'irritation_in_anus': 62,\n",
              " 'neck_pain': 63,\n",
              " 'dizziness': 64,\n",
              " 'cramps': 65,\n",
              " 'bruising': 66,\n",
              " 'obesity': 67,\n",
              " 'swollen_legs': 68,\n",
              " 'swollen_blood_vessels': 69,\n",
              " 'puffy_face_and_eyes': 70,\n",
              " 'enlarged_thyroid': 71,\n",
              " 'brittle_nails': 72,\n",
              " 'swollen_extremeties': 73,\n",
              " 'excessive_hunger': 74,\n",
              " 'extra_marital_contacts': 75,\n",
              " 'drying_and_tingling_lips': 76,\n",
              " 'slurred_speech': 77,\n",
              " 'knee_pain': 78,\n",
              " 'hip_joint_pain': 79,\n",
              " 'muscle_weakness': 80,\n",
              " 'stiff_neck': 81,\n",
              " 'swelling_joints': 82,\n",
              " 'movement_stiffness': 83,\n",
              " 'spinning_movements': 84,\n",
              " 'loss_of_balance': 85,\n",
              " 'unsteadiness': 86,\n",
              " 'weakness_of_one_body_side': 87,\n",
              " 'loss_of_smell': 88,\n",
              " 'bladder_discomfort': 89,\n",
              " 'foul_smell_of urine': 90,\n",
              " 'continuous_feel_of_urine': 91,\n",
              " 'passage_of_gases': 92,\n",
              " 'internal_itching': 93,\n",
              " 'toxic_look_(typhos)': 94,\n",
              " 'depression': 95,\n",
              " 'irritability': 96,\n",
              " 'muscle_pain': 97,\n",
              " 'altered_sensorium': 98,\n",
              " 'red_spots_over_body': 99,\n",
              " 'belly_pain': 100,\n",
              " 'abnormal_menstruation': 101,\n",
              " 'dischromic _patches': 102,\n",
              " 'watering_from_eyes': 103,\n",
              " 'increased_appetite': 104,\n",
              " 'polyuria': 105,\n",
              " 'family_history': 106,\n",
              " 'mucoid_sputum': 107,\n",
              " 'rusty_sputum': 108,\n",
              " 'lack_of_concentration': 109,\n",
              " 'visual_disturbances': 110,\n",
              " 'receiving_blood_transfusion': 111,\n",
              " 'receiving_unsterile_injections': 112,\n",
              " 'coma': 113,\n",
              " 'stomach_bleeding': 114,\n",
              " 'distention_of_abdomen': 115,\n",
              " 'history_of_alcohol_consumption': 116,\n",
              " 'fluid_overload.1': 117,\n",
              " 'blood_in_sputum': 118,\n",
              " 'prominent_veins_on_calf': 119,\n",
              " 'palpitations': 120,\n",
              " 'painful_walking': 121,\n",
              " 'pus_filled_pimples': 122,\n",
              " 'blackheads': 123,\n",
              " 'scurring': 124,\n",
              " 'skin_peeling': 125,\n",
              " 'silver_like_dusting': 126,\n",
              " 'small_dents_in_nails': 127,\n",
              " 'inflammatory_nails': 128,\n",
              " 'blister': 129,\n",
              " 'red_sore_around_nose': 130,\n",
              " 'yellow_crust_ooze': 131}"
            ]
          },
          "metadata": {},
          "execution_count": 64
        }
      ]
    },
    {
      "cell_type": "code",
      "source": [
        "predicted_disease_labels = encoder.classes_\n",
        "predicted_disease_labels"
      ],
      "metadata": {
        "colab": {
          "base_uri": "https://localhost:8080/"
        },
        "id": "57UzqPdtXY3T",
        "outputId": "c0a7174a-76b4-40d1-f101-3aff96ffaef8"
      },
      "execution_count": null,
      "outputs": [
        {
          "output_type": "execute_result",
          "data": {
            "text/plain": [
              "array(['(vertigo) Paroymsal  Positional Vertigo', 'AIDS', 'Acne',\n",
              "       'Alcoholic hepatitis', 'Allergy', 'Arthritis', 'Bronchial Asthma',\n",
              "       'Cervical spondylosis', 'Chicken pox', 'Chronic cholestasis',\n",
              "       'Common Cold', 'Dengue', 'Diabetes ',\n",
              "       'Dimorphic hemmorhoids(piles)', 'Drug Reaction',\n",
              "       'Fungal infection', 'GERD', 'Gastroenteritis', 'Heart attack',\n",
              "       'Hepatitis B', 'Hepatitis C', 'Hepatitis D', 'Hepatitis E',\n",
              "       'Hypertension ', 'Hyperthyroidism', 'Hypoglycemia',\n",
              "       'Hypothyroidism', 'Impetigo', 'Jaundice', 'Malaria', 'Migraine',\n",
              "       'Osteoarthristis', 'Paralysis (brain hemorrhage)',\n",
              "       'Peptic ulcer diseae', 'Pneumonia', 'Psoriasis', 'Tuberculosis',\n",
              "       'Typhoid', 'Urinary tract infection', 'Varicose veins',\n",
              "       'hepatitis A'], dtype=object)"
            ]
          },
          "metadata": {},
          "execution_count": 65
        }
      ]
    },
    {
      "cell_type": "code",
      "source": [
        "# Creating a disease index dictionary to encode the\n",
        "# output disease labesl into numerical form\n",
        "disease_label_index_dict = {}\n",
        "for index_global, disease_name in enumerate(predicted_disease_labels):\n",
        "    # symptom = \" \".join([i for i in symptom_name.split(\"_\")])\n",
        "    disease_label_index_dict[disease_name] = index_global"
      ],
      "metadata": {
        "id": "YAfcTO_8XLF5"
      },
      "execution_count": null,
      "outputs": []
    },
    {
      "cell_type": "code",
      "source": [
        "disease_label_index_dict"
      ],
      "metadata": {
        "colab": {
          "base_uri": "https://localhost:8080/"
        },
        "id": "n1lYdjuuX7gh",
        "outputId": "b6bd2a9a-11d4-4e31-e03e-186178ba539e"
      },
      "execution_count": null,
      "outputs": [
        {
          "output_type": "execute_result",
          "data": {
            "text/plain": [
              "{'(vertigo) Paroymsal  Positional Vertigo': 0,\n",
              " 'AIDS': 1,\n",
              " 'Acne': 2,\n",
              " 'Alcoholic hepatitis': 3,\n",
              " 'Allergy': 4,\n",
              " 'Arthritis': 5,\n",
              " 'Bronchial Asthma': 6,\n",
              " 'Cervical spondylosis': 7,\n",
              " 'Chicken pox': 8,\n",
              " 'Chronic cholestasis': 9,\n",
              " 'Common Cold': 10,\n",
              " 'Dengue': 11,\n",
              " 'Diabetes ': 12,\n",
              " 'Dimorphic hemmorhoids(piles)': 13,\n",
              " 'Drug Reaction': 14,\n",
              " 'Fungal infection': 15,\n",
              " 'GERD': 16,\n",
              " 'Gastroenteritis': 17,\n",
              " 'Heart attack': 18,\n",
              " 'Hepatitis B': 19,\n",
              " 'Hepatitis C': 20,\n",
              " 'Hepatitis D': 21,\n",
              " 'Hepatitis E': 22,\n",
              " 'Hypertension ': 23,\n",
              " 'Hyperthyroidism': 24,\n",
              " 'Hypoglycemia': 25,\n",
              " 'Hypothyroidism': 26,\n",
              " 'Impetigo': 27,\n",
              " 'Jaundice': 28,\n",
              " 'Malaria': 29,\n",
              " 'Migraine': 30,\n",
              " 'Osteoarthristis': 31,\n",
              " 'Paralysis (brain hemorrhage)': 32,\n",
              " 'Peptic ulcer diseae': 33,\n",
              " 'Pneumonia': 34,\n",
              " 'Psoriasis': 35,\n",
              " 'Tuberculosis': 36,\n",
              " 'Typhoid': 37,\n",
              " 'Urinary tract infection': 38,\n",
              " 'Varicose veins': 39,\n",
              " 'hepatitis A': 40}"
            ]
          },
          "metadata": {},
          "execution_count": 67
        }
      ]
    },
    {
      "cell_type": "code",
      "source": [
        "data_dict = {\n",
        "    \"symptom_index\":symptom_index_dict, # input or predicTOR vars\n",
        "    \"predictions_classes\":disease_label_index_dict  # target or preditcTED var\n",
        "}"
      ],
      "metadata": {
        "id": "SOuM1n2qcrZ8"
      },
      "execution_count": null,
      "outputs": []
    },
    {
      "cell_type": "code",
      "source": [
        "data_dict"
      ],
      "metadata": {
        "colab": {
          "base_uri": "https://localhost:8080/"
        },
        "id": "bdY5lThOc0jF",
        "outputId": "d05383a1-e964-4bf3-f819-79a4a4c9ed6f"
      },
      "execution_count": null,
      "outputs": [
        {
          "output_type": "execute_result",
          "data": {
            "text/plain": [
              "{'symptom_index': {'itching': 0,\n",
              "  'skin_rash': 1,\n",
              "  'nodal_skin_eruptions': 2,\n",
              "  'continuous_sneezing': 3,\n",
              "  'shivering': 4,\n",
              "  'chills': 5,\n",
              "  'joint_pain': 6,\n",
              "  'stomach_pain': 7,\n",
              "  'acidity': 8,\n",
              "  'ulcers_on_tongue': 9,\n",
              "  'muscle_wasting': 10,\n",
              "  'vomiting': 11,\n",
              "  'burning_micturition': 12,\n",
              "  'spotting_ urination': 13,\n",
              "  'fatigue': 14,\n",
              "  'weight_gain': 15,\n",
              "  'anxiety': 16,\n",
              "  'cold_hands_and_feets': 17,\n",
              "  'mood_swings': 18,\n",
              "  'weight_loss': 19,\n",
              "  'restlessness': 20,\n",
              "  'lethargy': 21,\n",
              "  'patches_in_throat': 22,\n",
              "  'irregular_sugar_level': 23,\n",
              "  'cough': 24,\n",
              "  'high_fever': 25,\n",
              "  'sunken_eyes': 26,\n",
              "  'breathlessness': 27,\n",
              "  'sweating': 28,\n",
              "  'dehydration': 29,\n",
              "  'indigestion': 30,\n",
              "  'headache': 31,\n",
              "  'yellowish_skin': 32,\n",
              "  'dark_urine': 33,\n",
              "  'nausea': 34,\n",
              "  'loss_of_appetite': 35,\n",
              "  'pain_behind_the_eyes': 36,\n",
              "  'back_pain': 37,\n",
              "  'constipation': 38,\n",
              "  'abdominal_pain': 39,\n",
              "  'diarrhoea': 40,\n",
              "  'mild_fever': 41,\n",
              "  'yellow_urine': 42,\n",
              "  'yellowing_of_eyes': 43,\n",
              "  'acute_liver_failure': 44,\n",
              "  'fluid_overload': 45,\n",
              "  'swelling_of_stomach': 46,\n",
              "  'swelled_lymph_nodes': 47,\n",
              "  'malaise': 48,\n",
              "  'blurred_and_distorted_vision': 49,\n",
              "  'phlegm': 50,\n",
              "  'throat_irritation': 51,\n",
              "  'redness_of_eyes': 52,\n",
              "  'sinus_pressure': 53,\n",
              "  'runny_nose': 54,\n",
              "  'congestion': 55,\n",
              "  'chest_pain': 56,\n",
              "  'weakness_in_limbs': 57,\n",
              "  'fast_heart_rate': 58,\n",
              "  'pain_during_bowel_movements': 59,\n",
              "  'pain_in_anal_region': 60,\n",
              "  'bloody_stool': 61,\n",
              "  'irritation_in_anus': 62,\n",
              "  'neck_pain': 63,\n",
              "  'dizziness': 64,\n",
              "  'cramps': 65,\n",
              "  'bruising': 66,\n",
              "  'obesity': 67,\n",
              "  'swollen_legs': 68,\n",
              "  'swollen_blood_vessels': 69,\n",
              "  'puffy_face_and_eyes': 70,\n",
              "  'enlarged_thyroid': 71,\n",
              "  'brittle_nails': 72,\n",
              "  'swollen_extremeties': 73,\n",
              "  'excessive_hunger': 74,\n",
              "  'extra_marital_contacts': 75,\n",
              "  'drying_and_tingling_lips': 76,\n",
              "  'slurred_speech': 77,\n",
              "  'knee_pain': 78,\n",
              "  'hip_joint_pain': 79,\n",
              "  'muscle_weakness': 80,\n",
              "  'stiff_neck': 81,\n",
              "  'swelling_joints': 82,\n",
              "  'movement_stiffness': 83,\n",
              "  'spinning_movements': 84,\n",
              "  'loss_of_balance': 85,\n",
              "  'unsteadiness': 86,\n",
              "  'weakness_of_one_body_side': 87,\n",
              "  'loss_of_smell': 88,\n",
              "  'bladder_discomfort': 89,\n",
              "  'foul_smell_of urine': 90,\n",
              "  'continuous_feel_of_urine': 91,\n",
              "  'passage_of_gases': 92,\n",
              "  'internal_itching': 93,\n",
              "  'toxic_look_(typhos)': 94,\n",
              "  'depression': 95,\n",
              "  'irritability': 96,\n",
              "  'muscle_pain': 97,\n",
              "  'altered_sensorium': 98,\n",
              "  'red_spots_over_body': 99,\n",
              "  'belly_pain': 100,\n",
              "  'abnormal_menstruation': 101,\n",
              "  'dischromic _patches': 102,\n",
              "  'watering_from_eyes': 103,\n",
              "  'increased_appetite': 104,\n",
              "  'polyuria': 105,\n",
              "  'family_history': 106,\n",
              "  'mucoid_sputum': 107,\n",
              "  'rusty_sputum': 108,\n",
              "  'lack_of_concentration': 109,\n",
              "  'visual_disturbances': 110,\n",
              "  'receiving_blood_transfusion': 111,\n",
              "  'receiving_unsterile_injections': 112,\n",
              "  'coma': 113,\n",
              "  'stomach_bleeding': 114,\n",
              "  'distention_of_abdomen': 115,\n",
              "  'history_of_alcohol_consumption': 116,\n",
              "  'fluid_overload.1': 117,\n",
              "  'blood_in_sputum': 118,\n",
              "  'prominent_veins_on_calf': 119,\n",
              "  'palpitations': 120,\n",
              "  'painful_walking': 121,\n",
              "  'pus_filled_pimples': 122,\n",
              "  'blackheads': 123,\n",
              "  'scurring': 124,\n",
              "  'skin_peeling': 125,\n",
              "  'silver_like_dusting': 126,\n",
              "  'small_dents_in_nails': 127,\n",
              "  'inflammatory_nails': 128,\n",
              "  'blister': 129,\n",
              "  'red_sore_around_nose': 130,\n",
              "  'yellow_crust_ooze': 131},\n",
              " 'predictions_classes': {'(vertigo) Paroymsal  Positional Vertigo': 0,\n",
              "  'AIDS': 1,\n",
              "  'Acne': 2,\n",
              "  'Alcoholic hepatitis': 3,\n",
              "  'Allergy': 4,\n",
              "  'Arthritis': 5,\n",
              "  'Bronchial Asthma': 6,\n",
              "  'Cervical spondylosis': 7,\n",
              "  'Chicken pox': 8,\n",
              "  'Chronic cholestasis': 9,\n",
              "  'Common Cold': 10,\n",
              "  'Dengue': 11,\n",
              "  'Diabetes ': 12,\n",
              "  'Dimorphic hemmorhoids(piles)': 13,\n",
              "  'Drug Reaction': 14,\n",
              "  'Fungal infection': 15,\n",
              "  'GERD': 16,\n",
              "  'Gastroenteritis': 17,\n",
              "  'Heart attack': 18,\n",
              "  'Hepatitis B': 19,\n",
              "  'Hepatitis C': 20,\n",
              "  'Hepatitis D': 21,\n",
              "  'Hepatitis E': 22,\n",
              "  'Hypertension ': 23,\n",
              "  'Hyperthyroidism': 24,\n",
              "  'Hypoglycemia': 25,\n",
              "  'Hypothyroidism': 26,\n",
              "  'Impetigo': 27,\n",
              "  'Jaundice': 28,\n",
              "  'Malaria': 29,\n",
              "  'Migraine': 30,\n",
              "  'Osteoarthristis': 31,\n",
              "  'Paralysis (brain hemorrhage)': 32,\n",
              "  'Peptic ulcer diseae': 33,\n",
              "  'Pneumonia': 34,\n",
              "  'Psoriasis': 35,\n",
              "  'Tuberculosis': 36,\n",
              "  'Typhoid': 37,\n",
              "  'Urinary tract infection': 38,\n",
              "  'Varicose veins': 39,\n",
              "  'hepatitis A': 40}}"
            ]
          },
          "metadata": {},
          "execution_count": 69
        }
      ]
    },
    {
      "cell_type": "code",
      "source": [
        "data_dict[\"predictions_classes\"]"
      ],
      "metadata": {
        "colab": {
          "base_uri": "https://localhost:8080/"
        },
        "id": "GI-Xq43NXAOi",
        "outputId": "b2d69ea3-c88b-4e27-f19d-7dc77652ffe2"
      },
      "execution_count": null,
      "outputs": [
        {
          "output_type": "execute_result",
          "data": {
            "text/plain": [
              "{'(vertigo) Paroymsal  Positional Vertigo': 0,\n",
              " 'AIDS': 1,\n",
              " 'Acne': 2,\n",
              " 'Alcoholic hepatitis': 3,\n",
              " 'Allergy': 4,\n",
              " 'Arthritis': 5,\n",
              " 'Bronchial Asthma': 6,\n",
              " 'Cervical spondylosis': 7,\n",
              " 'Chicken pox': 8,\n",
              " 'Chronic cholestasis': 9,\n",
              " 'Common Cold': 10,\n",
              " 'Dengue': 11,\n",
              " 'Diabetes ': 12,\n",
              " 'Dimorphic hemmorhoids(piles)': 13,\n",
              " 'Drug Reaction': 14,\n",
              " 'Fungal infection': 15,\n",
              " 'GERD': 16,\n",
              " 'Gastroenteritis': 17,\n",
              " 'Heart attack': 18,\n",
              " 'Hepatitis B': 19,\n",
              " 'Hepatitis C': 20,\n",
              " 'Hepatitis D': 21,\n",
              " 'Hepatitis E': 22,\n",
              " 'Hypertension ': 23,\n",
              " 'Hyperthyroidism': 24,\n",
              " 'Hypoglycemia': 25,\n",
              " 'Hypothyroidism': 26,\n",
              " 'Impetigo': 27,\n",
              " 'Jaundice': 28,\n",
              " 'Malaria': 29,\n",
              " 'Migraine': 30,\n",
              " 'Osteoarthristis': 31,\n",
              " 'Paralysis (brain hemorrhage)': 32,\n",
              " 'Peptic ulcer diseae': 33,\n",
              " 'Pneumonia': 34,\n",
              " 'Psoriasis': 35,\n",
              " 'Tuberculosis': 36,\n",
              " 'Typhoid': 37,\n",
              " 'Urinary tract infection': 38,\n",
              " 'Varicose veins': 39,\n",
              " 'hepatitis A': 40}"
            ]
          },
          "metadata": {},
          "execution_count": 70
        }
      ]
    },
    {
      "cell_type": "code",
      "source": [
        "# len(symptom_index_dict) # input or predicTOR vars"
      ],
      "metadata": {
        "id": "iH2nbjK5dKkk"
      },
      "execution_count": null,
      "outputs": []
    },
    {
      "cell_type": "code",
      "source": [
        "# len(encoder.classes_)\n",
        "# target or preditcTED var;\n",
        "# multi-class; len gives qty. of classess or labels in target var"
      ],
      "metadata": {
        "id": "3FPpJcYedTdU"
      },
      "execution_count": null,
      "outputs": []
    },
    {
      "cell_type": "code",
      "source": [
        "import warnings\n",
        "\n",
        "warnings.filterwarnings('ignore')"
      ],
      "metadata": {
        "id": "S3GuJhP7CGok"
      },
      "execution_count": null,
      "outputs": []
    },
    {
      "cell_type": "code",
      "source": [
        "# Create function that produces output (diesease label/class)\n",
        "# given certain inputs (symptoms)\n",
        "# Input: string type, CSV (comma separated values)\n",
        "# Output: string type, diesease label/class\n",
        "def predict_disease_label(symptoms_csv_input):\n",
        "    symptoms = symptoms_csv_input\n",
        "    print(\"symptoms= \\n\", symptoms)\n",
        "\n",
        "    # creating input data for the models\n",
        "    input_data = [0] * len(data_dict[\"symptom_index\"])\n",
        "    # print(\"input_data= \\n\", input_data)\n",
        "\n",
        "    for symptom in symptoms:\n",
        "        index = data_dict[\"symptom_index\"][symptom]\n",
        "        # extract number (index) corresponding to symptom_name\n",
        "        input_data[index] = 1\n",
        "\n",
        "    # print(\"\\n input_data= \\n\", input_data)\n",
        "    # print(\"\\n before reshape, input_data= \\n\", type(input_data))\n",
        "\n",
        "    # reshaping the input data and converting it\n",
        "    # into suitable format for model predictions\n",
        "    input_data = np.array(input_data).reshape(1,-1)\n",
        "    # print(\"\\n after reshape, input_data= \\n\", input_data)\n",
        "    # print(\"\\n after reshape, input_data= \\n\", input_data.shape)\n",
        "    # print(type(input_data), \"\\n\")\n",
        "    # print(\"input_data[0]= \\n\", input_data[0])\n",
        "\n",
        "    def method1(dict2, final_prediction_idx):\n",
        "      for k, v in dict2.items():\n",
        "          if v == final_prediction_idx:\n",
        "              return k\n",
        "\n",
        "    # generating individual outputs\n",
        "    rf_prediction = final_rf_model.predict(input_data)[0]\n",
        "    nb_prediction = final_nb_model.predict(input_data)[0]\n",
        "    svm_prediction = final_svm_model.predict(input_data)[0]\n",
        "    # print(\"rf_prediction= \\n\", rf_prediction)\n",
        "    # print(\"nb_prediction= \\n\", nb_prediction)\n",
        "    # print(\"svm_prediction= \\n\", svm_prediction)\n",
        "\n",
        "    # # combining individual outputs into a list\n",
        "    # rf_prediction =\\\n",
        "    #  data_dict[\"predictions_classes\"][final_rf_model.predict(input_data)[0]]\n",
        "    # nb_prediction =\\\n",
        "    #  data_dict[\"predictions_classes\"][final_nb_model.predict(input_data)[0]]\n",
        "    # svm_prediction =\\\n",
        "    #  data_dict[\"predictions_classes\"][final_svm_model.predict(input_data)[0]]\n",
        "\n",
        "    # collect all predictions\n",
        "    prediction_labels = {\n",
        "        \"rf_model_prediction\": rf_prediction,\n",
        "        \"naive_bayes_prediction\": nb_prediction,\n",
        "        \"svm_model_prediction\": svm_prediction,\n",
        "        # \"final_prediction\":final_prediction\n",
        "    }\n",
        "    # print(\"\\n prediction_labels= \\n\", prediction_labels)\n",
        "\n",
        "    # Get indices of predictions instead of labels\n",
        "    rf_prediction_idx = final_rf_model.predict(input_data)[0]\n",
        "    nb_prediction_idx = final_nb_model.predict(input_data)[0]\n",
        "    svm_prediction_idx = final_svm_model.predict(input_data)[0]\n",
        "    # collect each prediction index\n",
        "    # prediction_idx = {\n",
        "    #     \"rf_prediction_idx\": rf_prediction_idx,\n",
        "    #     \"nb_prediction_idx\": nb_prediction_idx,\n",
        "    #     \"svm_prediction_idx\": svm_prediction_idx,\n",
        "    #     # \"final_prediction\":final_prediction\n",
        "    # }\n",
        "    # print(\"\\n prediction_idx= \\n\", prediction_idx)\n",
        "\n",
        "    # Take mode of all individual predictions\n",
        "    final_prediction_idx = mode([rf_prediction_idx,\n",
        "                             nb_prediction_idx,\n",
        "                             svm_prediction_idx])[0]\n",
        "    # print(\"\\n final_prediction_idx= \\n\", final_prediction_idx)\n",
        "    # print(\"\\n type final_prediction_idx= \\n\", type(final_prediction_idx))\n",
        "\n",
        "    # print(\"\\n final_prediction_idx= \\n\", final_prediction_idx)\n",
        "    # final_prediction_label =\\\n",
        "    #  data_dict[\"predictions_classes\"][final_prediction_idx]\n",
        "\n",
        "    dict2 = data_dict[\"predictions_classes\"]\n",
        "    # print(\"\\n dict2= \\n\", dict2)\n",
        "    # print(\"\\n dict2.keys()= \\n\", dict2.keys())\n",
        "\n",
        "    final_prediction_label= method1(dict2, final_prediction_idx)\n",
        "    # print(\"\\n final_prediction_label= \\n\", ans)\n",
        "\n",
        "    return final_prediction_label\n",
        "    # predictions\n"
      ],
      "metadata": {
        "id": "Lz79zTtKCV1u"
      },
      "execution_count": null,
      "outputs": []
    },
    {
      "cell_type": "code",
      "source": [
        "input_1 = ('itching', 'skin_rash', 'nodal_skin_eruptions','continuous_sneezing',\n",
        "           'shivering', 'chills', 'joint_pain')\n",
        "# input_2\n",
        "input_2 = ('acute_liver_failure', 'fluid_overload', 'swelling_of_stomach',\n",
        "       'swelled_lymph_nodes', 'malaise', 'blurred_and_distorted_vision')"
      ],
      "metadata": {
        "id": "qbtDv3JHL-V7"
      },
      "execution_count": null,
      "outputs": []
    },
    {
      "cell_type": "code",
      "source": [
        "# call function\n",
        "print(\"\\n Prognosis= \", predict_disease_label(input_1),\"\\n\\n\")\n",
        "print(\"\\n Prognosis= \", predict_disease_label(input_2),\"\\n\\n\")"
      ],
      "metadata": {
        "colab": {
          "base_uri": "https://localhost:8080/"
        },
        "id": "exsCnb4zIogJ",
        "outputId": "a86a0c21-dab2-4693-f19d-2c95f67b6394"
      },
      "execution_count": null,
      "outputs": [
        {
          "output_type": "stream",
          "name": "stdout",
          "text": [
            "symptoms= \n",
            " ('itching', 'skin_rash', 'nodal_skin_eruptions', 'continuous_sneezing', 'shivering', 'chills', 'joint_pain')\n",
            "\n",
            " Prognosis=  Fungal infection \n",
            "\n",
            "\n",
            "symptoms= \n",
            " ('acute_liver_failure', 'fluid_overload', 'swelling_of_stomach', 'swelled_lymph_nodes', 'malaise', 'blurred_and_distorted_vision')\n",
            "\n",
            " Prognosis=  Alcoholic hepatitis \n",
            "\n",
            "\n"
          ]
        }
      ]
    }
  ]
}